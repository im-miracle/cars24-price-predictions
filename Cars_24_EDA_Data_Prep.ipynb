{
 "cells": [
  {
   "cell_type": "code",
   "execution_count": 5,
   "metadata": {},
   "outputs": [],
   "source": [
    "#Download Data\n",
    "# !gdown 15tIjPrstV2RnOMv2VSIKW7yW_M3KjyNa"
   ]
  },
  {
   "cell_type": "code",
   "execution_count": 38,
   "metadata": {},
   "outputs": [],
   "source": [
    "import numpy as np\n",
    "import pandas as pd\n",
    "import matplotlib.pyplot as plt\n",
    "import seaborn as sns"
   ]
  },
  {
   "cell_type": "code",
   "execution_count": 39,
   "metadata": {},
   "outputs": [
    {
     "data": {
      "text/html": [
       "<div>\n",
       "<style scoped>\n",
       "    .dataframe tbody tr th:only-of-type {\n",
       "        vertical-align: middle;\n",
       "    }\n",
       "\n",
       "    .dataframe tbody tr th {\n",
       "        vertical-align: top;\n",
       "    }\n",
       "\n",
       "    .dataframe thead th {\n",
       "        text-align: right;\n",
       "    }\n",
       "</style>\n",
       "<table border=\"1\" class=\"dataframe\">\n",
       "  <thead>\n",
       "    <tr style=\"text-align: right;\">\n",
       "      <th></th>\n",
       "      <th>full_name</th>\n",
       "      <th>selling_price</th>\n",
       "      <th>year</th>\n",
       "      <th>seller_type</th>\n",
       "      <th>km_driven</th>\n",
       "      <th>fuel_type</th>\n",
       "      <th>transmission_type</th>\n",
       "      <th>mileage</th>\n",
       "      <th>engine</th>\n",
       "      <th>max_power</th>\n",
       "      <th>seats</th>\n",
       "    </tr>\n",
       "  </thead>\n",
       "  <tbody>\n",
       "    <tr>\n",
       "      <th>0</th>\n",
       "      <td>Maruti Alto Std</td>\n",
       "      <td>1.2</td>\n",
       "      <td>2012.0</td>\n",
       "      <td>Individual</td>\n",
       "      <td>120000</td>\n",
       "      <td>Petrol</td>\n",
       "      <td>Manual</td>\n",
       "      <td>19.7</td>\n",
       "      <td>796.0</td>\n",
       "      <td>46.3</td>\n",
       "      <td>5.0</td>\n",
       "    </tr>\n",
       "    <tr>\n",
       "      <th>1</th>\n",
       "      <td>Hyundai Grand i10 Asta</td>\n",
       "      <td>5.5</td>\n",
       "      <td>2016.0</td>\n",
       "      <td>Individual</td>\n",
       "      <td>20000</td>\n",
       "      <td>Petrol</td>\n",
       "      <td>Manual</td>\n",
       "      <td>18.9</td>\n",
       "      <td>1197.0</td>\n",
       "      <td>82.0</td>\n",
       "      <td>5.0</td>\n",
       "    </tr>\n",
       "  </tbody>\n",
       "</table>\n",
       "</div>"
      ],
      "text/plain": [
       "                full_name  selling_price    year seller_type  km_driven  \\\n",
       "0         Maruti Alto Std            1.2  2012.0  Individual     120000   \n",
       "1  Hyundai Grand i10 Asta            5.5  2016.0  Individual      20000   \n",
       "\n",
       "  fuel_type transmission_type  mileage  engine  max_power  seats  \n",
       "0    Petrol            Manual     19.7   796.0       46.3    5.0  \n",
       "1    Petrol            Manual     18.9  1197.0       82.0    5.0  "
      ]
     },
     "execution_count": 39,
     "metadata": {},
     "output_type": "execute_result"
    }
   ],
   "source": [
    "# Loading the Dataset\n",
    "df_org = pd.read_csv(\"C:\\SaiFiles\\DSMLAI\\VSCode\\cars24-car-price.csv\")\n",
    "df = df_org.copy()\n",
    "df.head(2)"
   ]
  },
  {
   "cell_type": "code",
   "execution_count": 40,
   "metadata": {},
   "outputs": [
    {
     "name": "stdout",
     "output_type": "stream",
     "text": [
      "<class 'pandas.core.frame.DataFrame'>\n",
      "RangeIndex: 19980 entries, 0 to 19979\n",
      "Data columns (total 11 columns):\n",
      " #   Column             Non-Null Count  Dtype  \n",
      "---  ------             --------------  -----  \n",
      " 0   full_name          19980 non-null  object \n",
      " 1   selling_price      19980 non-null  float64\n",
      " 2   year               19980 non-null  float64\n",
      " 3   seller_type        19980 non-null  object \n",
      " 4   km_driven          19980 non-null  int64  \n",
      " 5   fuel_type          19980 non-null  object \n",
      " 6   transmission_type  19980 non-null  object \n",
      " 7   mileage            19980 non-null  float64\n",
      " 8   engine             19980 non-null  float64\n",
      " 9   max_power          19980 non-null  float64\n",
      " 10  seats              19980 non-null  float64\n",
      "dtypes: float64(6), int64(1), object(4)\n",
      "memory usage: 1.7+ MB\n"
     ]
    }
   ],
   "source": [
    "#Checking for missing Values\n",
    "df.info()\n",
    "\n",
    "## Looks like there are no missing values in the data."
   ]
  },
  {
   "cell_type": "code",
   "execution_count": 41,
   "metadata": {},
   "outputs": [
    {
     "data": {
      "text/html": [
       "<div>\n",
       "<style scoped>\n",
       "    .dataframe tbody tr th:only-of-type {\n",
       "        vertical-align: middle;\n",
       "    }\n",
       "\n",
       "    .dataframe tbody tr th {\n",
       "        vertical-align: top;\n",
       "    }\n",
       "\n",
       "    .dataframe thead th {\n",
       "        text-align: right;\n",
       "    }\n",
       "</style>\n",
       "<table border=\"1\" class=\"dataframe\">\n",
       "  <thead>\n",
       "    <tr style=\"text-align: right;\">\n",
       "      <th></th>\n",
       "      <th>selling_price</th>\n",
       "      <th>year</th>\n",
       "      <th>km_driven</th>\n",
       "      <th>mileage</th>\n",
       "      <th>engine</th>\n",
       "      <th>max_power</th>\n",
       "      <th>seats</th>\n",
       "    </tr>\n",
       "  </thead>\n",
       "  <tbody>\n",
       "    <tr>\n",
       "      <th>count</th>\n",
       "      <td>19980.000000</td>\n",
       "      <td>19980.000000</td>\n",
       "      <td>1.998000e+04</td>\n",
       "      <td>19980.000000</td>\n",
       "      <td>19980.000000</td>\n",
       "      <td>19980.000000</td>\n",
       "      <td>19980.000000</td>\n",
       "    </tr>\n",
       "    <tr>\n",
       "      <th>mean</th>\n",
       "      <td>7.392066</td>\n",
       "      <td>2014.525125</td>\n",
       "      <td>5.824488e+04</td>\n",
       "      <td>19.347219</td>\n",
       "      <td>1476.327401</td>\n",
       "      <td>97.854443</td>\n",
       "      <td>5.317868</td>\n",
       "    </tr>\n",
       "    <tr>\n",
       "      <th>std</th>\n",
       "      <td>9.103088</td>\n",
       "      <td>3.249185</td>\n",
       "      <td>5.172509e+04</td>\n",
       "      <td>4.620053</td>\n",
       "      <td>520.449398</td>\n",
       "      <td>45.080670</td>\n",
       "      <td>0.835370</td>\n",
       "    </tr>\n",
       "    <tr>\n",
       "      <th>min</th>\n",
       "      <td>0.250000</td>\n",
       "      <td>1991.000000</td>\n",
       "      <td>1.000000e+02</td>\n",
       "      <td>0.000000</td>\n",
       "      <td>0.000000</td>\n",
       "      <td>5.000000</td>\n",
       "      <td>2.000000</td>\n",
       "    </tr>\n",
       "    <tr>\n",
       "      <th>25%</th>\n",
       "      <td>3.400000</td>\n",
       "      <td>2013.000000</td>\n",
       "      <td>3.116425e+04</td>\n",
       "      <td>16.800000</td>\n",
       "      <td>1197.000000</td>\n",
       "      <td>73.900000</td>\n",
       "      <td>5.000000</td>\n",
       "    </tr>\n",
       "    <tr>\n",
       "      <th>50%</th>\n",
       "      <td>5.200000</td>\n",
       "      <td>2015.000000</td>\n",
       "      <td>5.200000e+04</td>\n",
       "      <td>19.160000</td>\n",
       "      <td>1248.000000</td>\n",
       "      <td>86.700000</td>\n",
       "      <td>5.000000</td>\n",
       "    </tr>\n",
       "    <tr>\n",
       "      <th>75%</th>\n",
       "      <td>7.850000</td>\n",
       "      <td>2017.000000</td>\n",
       "      <td>7.400000e+04</td>\n",
       "      <td>22.320000</td>\n",
       "      <td>1582.000000</td>\n",
       "      <td>112.000000</td>\n",
       "      <td>5.000000</td>\n",
       "    </tr>\n",
       "    <tr>\n",
       "      <th>max</th>\n",
       "      <td>395.000000</td>\n",
       "      <td>2021.000000</td>\n",
       "      <td>3.800000e+06</td>\n",
       "      <td>120.000000</td>\n",
       "      <td>6752.000000</td>\n",
       "      <td>626.000000</td>\n",
       "      <td>14.000000</td>\n",
       "    </tr>\n",
       "  </tbody>\n",
       "</table>\n",
       "</div>"
      ],
      "text/plain": [
       "       selling_price          year     km_driven       mileage        engine  \\\n",
       "count   19980.000000  19980.000000  1.998000e+04  19980.000000  19980.000000   \n",
       "mean        7.392066   2014.525125  5.824488e+04     19.347219   1476.327401   \n",
       "std         9.103088      3.249185  5.172509e+04      4.620053    520.449398   \n",
       "min         0.250000   1991.000000  1.000000e+02      0.000000      0.000000   \n",
       "25%         3.400000   2013.000000  3.116425e+04     16.800000   1197.000000   \n",
       "50%         5.200000   2015.000000  5.200000e+04     19.160000   1248.000000   \n",
       "75%         7.850000   2017.000000  7.400000e+04     22.320000   1582.000000   \n",
       "max       395.000000   2021.000000  3.800000e+06    120.000000   6752.000000   \n",
       "\n",
       "          max_power         seats  \n",
       "count  19980.000000  19980.000000  \n",
       "mean      97.854443      5.317868  \n",
       "std       45.080670      0.835370  \n",
       "min        5.000000      2.000000  \n",
       "25%       73.900000      5.000000  \n",
       "50%       86.700000      5.000000  \n",
       "75%      112.000000      5.000000  \n",
       "max      626.000000     14.000000  "
      ]
     },
     "metadata": {},
     "output_type": "display_data"
    }
   ],
   "source": [
    "# Looking at the properties of the Data\n",
    "display(df.describe())\n",
    "\n",
    "## selling_price: Looks like the data is in Lakhs\n",
    "## year: Data is from 1991 to 2021\n",
    "## mileage: The minimum value = 0, Max = 120. Need to do Outlier Handling\n",
    "## max_power: Minimum value = 0. Outlier Handling is needed."
   ]
  },
  {
   "cell_type": "markdown",
   "metadata": {},
   "source": [
    "## Helper Functions"
   ]
  },
  {
   "cell_type": "code",
   "execution_count": 107,
   "metadata": {},
   "outputs": [],
   "source": [
    "\n",
    "def barplotFeature(featureName, legendData=\"\"):\n",
    "    plt.figure(figsize=(15, 6))\n",
    "    if legendData:\n",
    "        sns.histplot(x=df[featureName], label=legendData)\n",
    "        plt.legend()\n",
    "    else:\n",
    "        sns.histplot(x=df[featureName])\n",
    "    plt.show()"
   ]
  },
  {
   "cell_type": "code",
   "execution_count": 124,
   "metadata": {},
   "outputs": [],
   "source": [
    "\n",
    "def lineplotFeature(featureName, legendData=\"\"):\n",
    "    plt.figure(figsize=(15, 6))\n",
    "    if legendData:\n",
    "        sns.lineplot(x=df[featureName], label=legendData)\n",
    "        plt.legend()\n",
    "    else:\n",
    "        sns.lineplot(x=df[featureName])\n",
    "    plt.show()"
   ]
  },
  {
   "cell_type": "markdown",
   "metadata": {},
   "source": [
    "## Data Preperation"
   ]
  },
  {
   "cell_type": "code",
   "execution_count": 186,
   "metadata": {},
   "outputs": [],
   "source": [
    "df = df_org.copy()\n",
    "df[\"make\"] = df[\"full_name\"].apply(lambda x: x.split(\" \")[0])\n",
    "df[\"model\"] = df[\"full_name\"].apply(lambda x: \" \".join(x.split(\" \")[1:]))\n",
    "df.drop(columns=[\"full_name\"], inplace=True)\n",
    "df = df[['selling_price',  'make', 'model', 'year', 'seller_type', 'km_driven', 'fuel_type',\n",
    "    'transmission_type', 'mileage', 'engine', 'max_power', 'seats',]]\n"
   ]
  },
  {
   "cell_type": "code",
   "execution_count": 187,
   "metadata": {},
   "outputs": [
    {
     "data": {
      "image/png": "[encoded data removed]",
      "text/plain": [
       "<Figure size 1080x432 with 1 Axes>"
      ]
     },
     "metadata": {
      "needs_background": "light"
     },
     "output_type": "display_data"
    },
    {
     "name": "stdout",
     "output_type": "stream",
     "text": [
      "0.99 percentile value: 45.000000\n",
      "Outlier Data percent to trim: 0.009860\n"
     ]
    },
    {
     "data": {
      "image/png": "[encoded data removed]",
      "text/plain": [
       "<Figure size 1080x432 with 1 Axes>"
      ]
     },
     "metadata": {
      "needs_background": "light"
     },
     "output_type": "display_data"
    }
   ],
   "source": [
    "barplotFeature(featureName=\"selling_price\", legendData=\"Before outlier Handling\")\n",
    "quantileThresholdValue = 0.99\n",
    "dfCutoffThreshold = df[\"selling_price\"].quantile(quantileThresholdValue)\n",
    "percentDataRemoved = df.loc[df[\"selling_price\"] > dfCutoffThreshold, \"selling_price\"].count()/df.shape[0]\n",
    "print(\"%0.2f percentile value: %f\" % (quantileThresholdValue, dfCutoffThreshold))\n",
    "print(\"Outlier Data percent to trim: %f\" % percentDataRemoved)\n",
    "\n",
    "## We have less than 1 Percent of data which is > 100 Lahks selling Price.\n",
    "## So mathematically consider all selling_price > 100 as outliers.\n",
    "\n",
    "## dropping Outliers\n",
    "df = df.loc[df[\"selling_price\"] <= dfCutoffThreshold]\n",
    "df = df.reset_index(drop=True)\n",
    "barplotFeature(featureName=\"selling_price\", legendData=\"After Outlier Handling\")"
   ]
  },
  {
   "cell_type": "code",
   "execution_count": 188,
   "metadata": {},
   "outputs": [
    {
     "data": {
      "image/png": "[encoded data removed]",
      "text/plain": [
       "<Figure size 1080x432 with 1 Axes>"
      ]
     },
     "metadata": {
      "needs_background": "light"
     },
     "output_type": "display_data"
    },
    {
     "name": "stdout",
     "output_type": "stream",
     "text": [
      "0.01 percentile value: 7.579360\n",
      "Outlier Data percent to trim: 0.008037\n"
     ]
    },
    {
     "data": {
      "image/png": "[encoded data removed]",
      "text/plain": [
       "<Figure size 1080x432 with 1 Axes>"
      ]
     },
     "metadata": {
      "needs_background": "light"
     },
     "output_type": "display_data"
    }
   ],
   "source": [
    "barplotFeature(featureName=\"mileage\", legendData=\"Before Outlier Handling\")\n",
    "df['mileage'].describe()\n",
    "quantileThresholdValue = 0.008\n",
    "dfCutoffThreshold = df[\"mileage\"].quantile(quantileThresholdValue)\n",
    "percentDataRemoved = df.loc[df[\"mileage\"] < dfCutoffThreshold, \"selling_price\"].count()/df.shape[0]\n",
    "\n",
    "print(\"%0.2f percentile value: %f\" % (quantileThresholdValue, dfCutoffThreshold))\n",
    "print(\"Outlier Data percent to trim: %f\" % percentDataRemoved)\n",
    "\n",
    "## dropping Outliers\n",
    "df = df.loc[df[\"mileage\"] >= dfCutoffThreshold]\n",
    "df = df.reset_index(drop=True)\n",
    "barplotFeature(featureName=\"mileage\", legendData=\"After Outlier Handling\")"
   ]
  },
  {
   "cell_type": "code",
   "execution_count": 191,
   "metadata": {},
   "outputs": [
    {
     "data": {
      "image/png": "[encoded data removed]",
      "text/plain": [
       "<Figure size 1080x432 with 1 Axes>"
      ]
     },
     "metadata": {
      "needs_background": "light"
     },
     "output_type": "display_data"
    },
    {
     "name": "stdout",
     "output_type": "stream",
     "text": [
      "dropping Data Points which have engine power < 10\n"
     ]
    },
    {
     "data": {
      "image/png": "[encoded data removed]",
      "text/plain": [
       "<Figure size 1080x432 with 1 Axes>"
      ]
     },
     "metadata": {
      "needs_background": "light"
     },
     "output_type": "display_data"
    }
   ],
   "source": [
    "barplotFeature(featureName=\"engine\", legendData=\"Before Outlier Handling\")\n",
    "df['engine'].describe()\n",
    "## dropping Outliers\n",
    "print(\"dropping Data Points which have engine power < 10\")\n",
    "df = df.loc[df[\"engine\"] >= 10]\n",
    "df = df.reset_index(drop=True)\n",
    "barplotFeature(featureName=\"engine\", legendData=\"After Outlier Handling\")"
   ]
  },
  {
   "cell_type": "code",
   "execution_count": null,
   "metadata": {},
   "outputs": [],
   "source": []
  },
  {
   "cell_type": "code",
   "execution_count": null,
   "metadata": {},
   "outputs": [],
   "source": []
  },
  {
   "cell_type": "code",
   "execution_count": null,
   "metadata": {},
   "outputs": [],
   "source": []
  },
  {
   "cell_type": "code",
   "execution_count": null,
   "metadata": {},
   "outputs": [],
   "source": []
  },
  {
   "cell_type": "code",
   "execution_count": null,
   "metadata": {},
   "outputs": [],
   "source": []
  }
 ],
 "metadata": {
  "kernelspec": {
   "display_name": "base",
   "language": "python",
   "name": "python3"
  },
  "language_info": {
   "codemirror_mode": {
    "name": "ipython",
    "version": 3
   },
   "file_extension": ".py",
   "mimetype": "text/x-python",
   "name": "python",
   "nbconvert_exporter": "python",
   "pygments_lexer": "ipython3",
   "version": "3.8.8"
  }
 },
 "nbformat": 4,
 "nbformat_minor": 2
}
