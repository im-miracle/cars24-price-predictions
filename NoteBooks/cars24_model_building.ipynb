{
 "cells": [
  {
   "cell_type": "markdown",
   "metadata": {},
   "source": [
    "### Importing Modules"
   ]
  },
  {
   "cell_type": "code",
   "metadata": {
    "ExecuteTime": {
     "end_time": "2024-10-19T14:47:00.930152Z",
     "start_time": "2024-10-19T14:47:00.454551Z"
    }
   },
   "source": [
    "# ML Modules\n",
    "import numpy as np\n",
    "import pandas as pd\n",
    "import matplotlib.pyplot as plt\n",
    "import seaborn as sns\n",
    "\n",
    "import pickle\n",
    "\n",
    "from sklearn.preprocessing import StandardScaler, MinMaxScaler\n",
    "from sklearn.preprocessing import TargetEncoder, PolynomialFeatures\n",
    "from sklearn.model_selection import train_test_split\n",
    "from sklearn.compose import ColumnTransformer\n",
    "from sklearn.pipeline import Pipeline\n",
    "from sklearn.linear_model import LinearRegression, Ridge, Lasso\n",
    "from sklearn.metrics import mean_squared_error\n",
    "\n",
    "import statsmodels.api as sm\n",
    "from statsmodels.stats.outliers_influence import variance_inflation_factor"
   ],
   "outputs": [],
   "execution_count": 2
  },
  {
   "cell_type": "code",
   "metadata": {
    "ExecuteTime": {
     "end_time": "2024-10-19T14:47:00.962383Z",
     "start_time": "2024-10-19T14:47:00.931157Z"
    }
   },
   "source": "df = pd.read_csv(\"./DataSet/cars24_car-price-clean-data.csv\", index_col=\"Unnamed: 0\")",
   "outputs": [],
   "execution_count": 3
  },
  {
   "cell_type": "code",
   "metadata": {
    "ExecuteTime": {
     "end_time": "2024-10-19T14:47:00.969492Z",
     "start_time": "2024-10-19T14:47:00.963896Z"
    }
   },
   "source": [
    "df.columns"
   ],
   "outputs": [
    {
     "data": {
      "text/plain": [
       "Index(['selling_price', 'make', 'model', 'year', 'seller_type', 'km_driven',\n",
       "       'fuel_type', 'transmission_type', 'mileage', 'engine', 'max_power',\n",
       "       'seats'],\n",
       "      dtype='object')"
      ]
     },
     "execution_count": 4,
     "metadata": {},
     "output_type": "execute_result"
    }
   ],
   "execution_count": 4
  },
  {
   "cell_type": "code",
   "metadata": {
    "ExecuteTime": {
     "end_time": "2024-10-19T14:47:00.977689Z",
     "start_time": "2024-10-19T14:47:00.970501Z"
    }
   },
   "source": [
    "categCols = [\"make\", \"model\", \"seller_type\", \"fuel_type\", \"transmission_type\", \"seats\"]\n",
    "contCols = [\"year\", \"km_driven\", \"mileage\", \"engine\", \"max_power\"]"
   ],
   "outputs": [],
   "execution_count": 5
  },
  {
   "cell_type": "code",
   "metadata": {
    "ExecuteTime": {
     "end_time": "2024-10-19T14:47:00.994907Z",
     "start_time": "2024-10-19T14:47:00.978694Z"
    }
   },
   "source": [
    "## splitting the Data to Train-Validation-Test\n",
    "\n",
    "randomState = 50\n",
    "## splitting the data to features and target Variables\n",
    "X = df.drop(columns=\"selling_price\")\n",
    "y = df[\"selling_price\"]\n",
    "\n",
    "X_tr_vl, X_test, y_tr_vl, y_test = train_test_split(X, y, test_size=0.2, random_state=randomState)\n",
    "X_train, X_val, y_train, y_val = train_test_split(X_tr_vl, y_tr_vl, test_size=0.25, random_state=randomState)\n",
    "\n",
    "print(\"Training Data size: X: %s, y: %s\" % (X_train.shape, y_train.shape))\n",
    "print(\"Validation Data size: X: %s, y: %s\" % (X_val.shape, y_val.shape))\n",
    "print(\"Test Data size: X: %s, y: %s\" % (X_test.shape, y_test.shape))"
   ],
   "outputs": [
    {
     "name": "stdout",
     "output_type": "stream",
     "text": [
      "Training Data size: X: (11772, 11), y: (11772,)\n",
      "Validation Data size: X: (3924, 11), y: (3924,)\n",
      "Test Data size: X: (3925, 11), y: (3925,)\n"
     ]
    }
   ],
   "execution_count": 6
  },
  {
   "cell_type": "code",
   "metadata": {
    "ExecuteTime": {
     "end_time": "2024-10-19T14:47:01.026529Z",
     "start_time": "2024-10-19T14:47:00.995912Z"
    }
   },
   "source": [
    "# Scaling Model Names\n",
    "X_MinMaxModelName = \"minmaxModel\"\n",
    "X_StdModelName = \"stdModel\"\n",
    "X_TgtModelName = \"tgtModel\"\n",
    "\n",
    "# Scaling Continuous Data\n",
    "# TODO: Need to figure out which ones to pass to Standard Scaler and vice-versa \n",
    "minmax_features = []\n",
    "standard_features = contCols\n",
    "Target_features = categCols\n",
    "\n",
    "# Create and fit model for continuous features\n",
    "preprocessor = ColumnTransformer(\n",
    "    transformers=[\n",
    "        (X_MinMaxModelName, MinMaxScaler(), minmax_features),\n",
    "        (X_StdModelName, StandardScaler(), standard_features),\n",
    "        (X_TgtModelName, TargetEncoder(), Target_features)],\n",
    "        remainder=\"passthrough\")\n",
    "preprocessor.fit(X=X_train, y=y_train)\n",
    "\n",
    "# Create and fit model for Target Variable\n",
    "yStdScaler = StandardScaler()\n",
    "yStdScaler.fit(y_train.values.reshape(-1, 1))"
   ],
   "outputs": [
    {
     "data": {
      "text/plain": [
       "StandardScaler()"
      ],
      "text/html": [
       "<style>#sk-container-id-1 {\n",
       "  /* Definition of color scheme common for light and dark mode */\n",
       "  --sklearn-color-text: black;\n",
       "  --sklearn-color-line: gray;\n",
       "  /* Definition of color scheme for unfitted estimators */\n",
       "  --sklearn-color-unfitted-level-0: #fff5e6;\n",
       "  --sklearn-color-unfitted-level-1: #f6e4d2;\n",
       "  --sklearn-color-unfitted-level-2: #ffe0b3;\n",
       "  --sklearn-color-unfitted-level-3: chocolate;\n",
       "  /* Definition of color scheme for fitted estimators */\n",
       "  --sklearn-color-fitted-level-0: #f0f8ff;\n",
       "  --sklearn-color-fitted-level-1: #d4ebff;\n",
       "  --sklearn-color-fitted-level-2: #b3dbfd;\n",
       "  --sklearn-color-fitted-level-3: cornflowerblue;\n",
       "\n",
       "  /* Specific color for light theme */\n",
       "  --sklearn-color-text-on-default-background: var(--sg-text-color, var(--theme-code-foreground, var(--jp-content-font-color1, black)));\n",
       "  --sklearn-color-background: var(--sg-background-color, var(--theme-background, var(--jp-layout-color0, white)));\n",
       "  --sklearn-color-border-box: var(--sg-text-color, var(--theme-code-foreground, var(--jp-content-font-color1, black)));\n",
       "  --sklearn-color-icon: #696969;\n",
       "\n",
       "  @media (prefers-color-scheme: dark) {\n",
       "    /* Redefinition of color scheme for dark theme */\n",
       "    --sklearn-color-text-on-default-background: var(--sg-text-color, var(--theme-code-foreground, var(--jp-content-font-color1, white)));\n",
       "    --sklearn-color-background: var(--sg-background-color, var(--theme-background, var(--jp-layout-color0, #111)));\n",
       "    --sklearn-color-border-box: var(--sg-text-color, var(--theme-code-foreground, var(--jp-content-font-color1, white)));\n",
       "    --sklearn-color-icon: #878787;\n",
       "  }\n",
       "}\n",
       "\n",
       "#sk-container-id-1 {\n",
       "  color: var(--sklearn-color-text);\n",
       "}\n",
       "\n",
       "#sk-container-id-1 pre {\n",
       "  padding: 0;\n",
       "}\n",
       "\n",
       "#sk-container-id-1 input.sk-hidden--visually {\n",
       "  border: 0;\n",
       "  clip: rect(1px 1px 1px 1px);\n",
       "  clip: rect(1px, 1px, 1px, 1px);\n",
       "  height: 1px;\n",
       "  margin: -1px;\n",
       "  overflow: hidden;\n",
       "  padding: 0;\n",
       "  position: absolute;\n",
       "  width: 1px;\n",
       "}\n",
       "\n",
       "#sk-container-id-1 div.sk-dashed-wrapped {\n",
       "  border: 1px dashed var(--sklearn-color-line);\n",
       "  margin: 0 0.4em 0.5em 0.4em;\n",
       "  box-sizing: border-box;\n",
       "  padding-bottom: 0.4em;\n",
       "  background-color: var(--sklearn-color-background);\n",
       "}\n",
       "\n",
       "#sk-container-id-1 div.sk-container {\n",
       "  /* jupyter's `normalize.less` sets `[hidden] { display: none; }`\n",
       "     but bootstrap.min.css set `[hidden] { display: none !important; }`\n",
       "     so we also need the `!important` here to be able to override the\n",
       "     default hidden behavior on the sphinx rendered scikit-learn.org.\n",
       "     See: https://github.com/scikit-learn/scikit-learn/issues/21755 */\n",
       "  display: inline-block !important;\n",
       "  position: relative;\n",
       "}\n",
       "\n",
       "#sk-container-id-1 div.sk-text-repr-fallback {\n",
       "  display: none;\n",
       "}\n",
       "\n",
       "div.sk-parallel-item,\n",
       "div.sk-serial,\n",
       "div.sk-item {\n",
       "  /* draw centered vertical line to link estimators */\n",
       "  background-image: linear-gradient(var(--sklearn-color-text-on-default-background), var(--sklearn-color-text-on-default-background));\n",
       "  background-size: 2px 100%;\n",
       "  background-repeat: no-repeat;\n",
       "  background-position: center center;\n",
       "}\n",
       "\n",
       "/* Parallel-specific style estimator block */\n",
       "\n",
       "#sk-container-id-1 div.sk-parallel-item::after {\n",
       "  content: \"\";\n",
       "  width: 100%;\n",
       "  border-bottom: 2px solid var(--sklearn-color-text-on-default-background);\n",
       "  flex-grow: 1;\n",
       "}\n",
       "\n",
       "#sk-container-id-1 div.sk-parallel {\n",
       "  display: flex;\n",
       "  align-items: stretch;\n",
       "  justify-content: center;\n",
       "  background-color: var(--sklearn-color-background);\n",
       "  position: relative;\n",
       "}\n",
       "\n",
       "#sk-container-id-1 div.sk-parallel-item {\n",
       "  display: flex;\n",
       "  flex-direction: column;\n",
       "}\n",
       "\n",
       "#sk-container-id-1 div.sk-parallel-item:first-child::after {\n",
       "  align-self: flex-end;\n",
       "  width: 50%;\n",
       "}\n",
       "\n",
       "#sk-container-id-1 div.sk-parallel-item:last-child::after {\n",
       "  align-self: flex-start;\n",
       "  width: 50%;\n",
       "}\n",
       "\n",
       "#sk-container-id-1 div.sk-parallel-item:only-child::after {\n",
       "  width: 0;\n",
       "}\n",
       "\n",
       "/* Serial-specific style estimator block */\n",
       "\n",
       "#sk-container-id-1 div.sk-serial {\n",
       "  display: flex;\n",
       "  flex-direction: column;\n",
       "  align-items: center;\n",
       "  background-color: var(--sklearn-color-background);\n",
       "  padding-right: 1em;\n",
       "  padding-left: 1em;\n",
       "}\n",
       "\n",
       "\n",
       "/* Toggleable style: style used for estimator/Pipeline/ColumnTransformer box that is\n",
       "clickable and can be expanded/collapsed.\n",
       "- Pipeline and ColumnTransformer use this feature and define the default style\n",
       "- Estimators will overwrite some part of the style using the `sk-estimator` class\n",
       "*/\n",
       "\n",
       "/* Pipeline and ColumnTransformer style (default) */\n",
       "\n",
       "#sk-container-id-1 div.sk-toggleable {\n",
       "  /* Default theme specific background. It is overwritten whether we have a\n",
       "  specific estimator or a Pipeline/ColumnTransformer */\n",
       "  background-color: var(--sklearn-color-background);\n",
       "}\n",
       "\n",
       "/* Toggleable label */\n",
       "#sk-container-id-1 label.sk-toggleable__label {\n",
       "  cursor: pointer;\n",
       "  display: block;\n",
       "  width: 100%;\n",
       "  margin-bottom: 0;\n",
       "  padding: 0.5em;\n",
       "  box-sizing: border-box;\n",
       "  text-align: center;\n",
       "}\n",
       "\n",
       "#sk-container-id-1 label.sk-toggleable__label-arrow:before {\n",
       "  /* Arrow on the left of the label */\n",
       "  content: \"▸\";\n",
       "  float: left;\n",
       "  margin-right: 0.25em;\n",
       "  color: var(--sklearn-color-icon);\n",
       "}\n",
       "\n",
       "#sk-container-id-1 label.sk-toggleable__label-arrow:hover:before {\n",
       "  color: var(--sklearn-color-text);\n",
       "}\n",
       "\n",
       "/* Toggleable content - dropdown */\n",
       "\n",
       "#sk-container-id-1 div.sk-toggleable__content {\n",
       "  max-height: 0;\n",
       "  max-width: 0;\n",
       "  overflow: hidden;\n",
       "  text-align: left;\n",
       "  /* unfitted */\n",
       "  background-color: var(--sklearn-color-unfitted-level-0);\n",
       "}\n",
       "\n",
       "#sk-container-id-1 div.sk-toggleable__content.fitted {\n",
       "  /* fitted */\n",
       "  background-color: var(--sklearn-color-fitted-level-0);\n",
       "}\n",
       "\n",
       "#sk-container-id-1 div.sk-toggleable__content pre {\n",
       "  margin: 0.2em;\n",
       "  border-radius: 0.25em;\n",
       "  color: var(--sklearn-color-text);\n",
       "  /* unfitted */\n",
       "  background-color: var(--sklearn-color-unfitted-level-0);\n",
       "}\n",
       "\n",
       "#sk-container-id-1 div.sk-toggleable__content.fitted pre {\n",
       "  /* unfitted */\n",
       "  background-color: var(--sklearn-color-fitted-level-0);\n",
       "}\n",
       "\n",
       "#sk-container-id-1 input.sk-toggleable__control:checked~div.sk-toggleable__content {\n",
       "  /* Expand drop-down */\n",
       "  max-height: 200px;\n",
       "  max-width: 100%;\n",
       "  overflow: auto;\n",
       "}\n",
       "\n",
       "#sk-container-id-1 input.sk-toggleable__control:checked~label.sk-toggleable__label-arrow:before {\n",
       "  content: \"▾\";\n",
       "}\n",
       "\n",
       "/* Pipeline/ColumnTransformer-specific style */\n",
       "\n",
       "#sk-container-id-1 div.sk-label input.sk-toggleable__control:checked~label.sk-toggleable__label {\n",
       "  color: var(--sklearn-color-text);\n",
       "  background-color: var(--sklearn-color-unfitted-level-2);\n",
       "}\n",
       "\n",
       "#sk-container-id-1 div.sk-label.fitted input.sk-toggleable__control:checked~label.sk-toggleable__label {\n",
       "  background-color: var(--sklearn-color-fitted-level-2);\n",
       "}\n",
       "\n",
       "/* Estimator-specific style */\n",
       "\n",
       "/* Colorize estimator box */\n",
       "#sk-container-id-1 div.sk-estimator input.sk-toggleable__control:checked~label.sk-toggleable__label {\n",
       "  /* unfitted */\n",
       "  background-color: var(--sklearn-color-unfitted-level-2);\n",
       "}\n",
       "\n",
       "#sk-container-id-1 div.sk-estimator.fitted input.sk-toggleable__control:checked~label.sk-toggleable__label {\n",
       "  /* fitted */\n",
       "  background-color: var(--sklearn-color-fitted-level-2);\n",
       "}\n",
       "\n",
       "#sk-container-id-1 div.sk-label label.sk-toggleable__label,\n",
       "#sk-container-id-1 div.sk-label label {\n",
       "  /* The background is the default theme color */\n",
       "  color: var(--sklearn-color-text-on-default-background);\n",
       "}\n",
       "\n",
       "/* On hover, darken the color of the background */\n",
       "#sk-container-id-1 div.sk-label:hover label.sk-toggleable__label {\n",
       "  color: var(--sklearn-color-text);\n",
       "  background-color: var(--sklearn-color-unfitted-level-2);\n",
       "}\n",
       "\n",
       "/* Label box, darken color on hover, fitted */\n",
       "#sk-container-id-1 div.sk-label.fitted:hover label.sk-toggleable__label.fitted {\n",
       "  color: var(--sklearn-color-text);\n",
       "  background-color: var(--sklearn-color-fitted-level-2);\n",
       "}\n",
       "\n",
       "/* Estimator label */\n",
       "\n",
       "#sk-container-id-1 div.sk-label label {\n",
       "  font-family: monospace;\n",
       "  font-weight: bold;\n",
       "  display: inline-block;\n",
       "  line-height: 1.2em;\n",
       "}\n",
       "\n",
       "#sk-container-id-1 div.sk-label-container {\n",
       "  text-align: center;\n",
       "}\n",
       "\n",
       "/* Estimator-specific */\n",
       "#sk-container-id-1 div.sk-estimator {\n",
       "  font-family: monospace;\n",
       "  border: 1px dotted var(--sklearn-color-border-box);\n",
       "  border-radius: 0.25em;\n",
       "  box-sizing: border-box;\n",
       "  margin-bottom: 0.5em;\n",
       "  /* unfitted */\n",
       "  background-color: var(--sklearn-color-unfitted-level-0);\n",
       "}\n",
       "\n",
       "#sk-container-id-1 div.sk-estimator.fitted {\n",
       "  /* fitted */\n",
       "  background-color: var(--sklearn-color-fitted-level-0);\n",
       "}\n",
       "\n",
       "/* on hover */\n",
       "#sk-container-id-1 div.sk-estimator:hover {\n",
       "  /* unfitted */\n",
       "  background-color: var(--sklearn-color-unfitted-level-2);\n",
       "}\n",
       "\n",
       "#sk-container-id-1 div.sk-estimator.fitted:hover {\n",
       "  /* fitted */\n",
       "  background-color: var(--sklearn-color-fitted-level-2);\n",
       "}\n",
       "\n",
       "/* Specification for estimator info (e.g. \"i\" and \"?\") */\n",
       "\n",
       "/* Common style for \"i\" and \"?\" */\n",
       "\n",
       ".sk-estimator-doc-link,\n",
       "a:link.sk-estimator-doc-link,\n",
       "a:visited.sk-estimator-doc-link {\n",
       "  float: right;\n",
       "  font-size: smaller;\n",
       "  line-height: 1em;\n",
       "  font-family: monospace;\n",
       "  background-color: var(--sklearn-color-background);\n",
       "  border-radius: 1em;\n",
       "  height: 1em;\n",
       "  width: 1em;\n",
       "  text-decoration: none !important;\n",
       "  margin-left: 1ex;\n",
       "  /* unfitted */\n",
       "  border: var(--sklearn-color-unfitted-level-1) 1pt solid;\n",
       "  color: var(--sklearn-color-unfitted-level-1);\n",
       "}\n",
       "\n",
       ".sk-estimator-doc-link.fitted,\n",
       "a:link.sk-estimator-doc-link.fitted,\n",
       "a:visited.sk-estimator-doc-link.fitted {\n",
       "  /* fitted */\n",
       "  border: var(--sklearn-color-fitted-level-1) 1pt solid;\n",
       "  color: var(--sklearn-color-fitted-level-1);\n",
       "}\n",
       "\n",
       "/* On hover */\n",
       "div.sk-estimator:hover .sk-estimator-doc-link:hover,\n",
       ".sk-estimator-doc-link:hover,\n",
       "div.sk-label-container:hover .sk-estimator-doc-link:hover,\n",
       ".sk-estimator-doc-link:hover {\n",
       "  /* unfitted */\n",
       "  background-color: var(--sklearn-color-unfitted-level-3);\n",
       "  color: var(--sklearn-color-background);\n",
       "  text-decoration: none;\n",
       "}\n",
       "\n",
       "div.sk-estimator.fitted:hover .sk-estimator-doc-link.fitted:hover,\n",
       ".sk-estimator-doc-link.fitted:hover,\n",
       "div.sk-label-container:hover .sk-estimator-doc-link.fitted:hover,\n",
       ".sk-estimator-doc-link.fitted:hover {\n",
       "  /* fitted */\n",
       "  background-color: var(--sklearn-color-fitted-level-3);\n",
       "  color: var(--sklearn-color-background);\n",
       "  text-decoration: none;\n",
       "}\n",
       "\n",
       "/* Span, style for the box shown on hovering the info icon */\n",
       ".sk-estimator-doc-link span {\n",
       "  display: none;\n",
       "  z-index: 9999;\n",
       "  position: relative;\n",
       "  font-weight: normal;\n",
       "  right: .2ex;\n",
       "  padding: .5ex;\n",
       "  margin: .5ex;\n",
       "  width: min-content;\n",
       "  min-width: 20ex;\n",
       "  max-width: 50ex;\n",
       "  color: var(--sklearn-color-text);\n",
       "  box-shadow: 2pt 2pt 4pt #999;\n",
       "  /* unfitted */\n",
       "  background: var(--sklearn-color-unfitted-level-0);\n",
       "  border: .5pt solid var(--sklearn-color-unfitted-level-3);\n",
       "}\n",
       "\n",
       ".sk-estimator-doc-link.fitted span {\n",
       "  /* fitted */\n",
       "  background: var(--sklearn-color-fitted-level-0);\n",
       "  border: var(--sklearn-color-fitted-level-3);\n",
       "}\n",
       "\n",
       ".sk-estimator-doc-link:hover span {\n",
       "  display: block;\n",
       "}\n",
       "\n",
       "/* \"?\"-specific style due to the `<a>` HTML tag */\n",
       "\n",
       "#sk-container-id-1 a.estimator_doc_link {\n",
       "  float: right;\n",
       "  font-size: 1rem;\n",
       "  line-height: 1em;\n",
       "  font-family: monospace;\n",
       "  background-color: var(--sklearn-color-background);\n",
       "  border-radius: 1rem;\n",
       "  height: 1rem;\n",
       "  width: 1rem;\n",
       "  text-decoration: none;\n",
       "  /* unfitted */\n",
       "  color: var(--sklearn-color-unfitted-level-1);\n",
       "  border: var(--sklearn-color-unfitted-level-1) 1pt solid;\n",
       "}\n",
       "\n",
       "#sk-container-id-1 a.estimator_doc_link.fitted {\n",
       "  /* fitted */\n",
       "  border: var(--sklearn-color-fitted-level-1) 1pt solid;\n",
       "  color: var(--sklearn-color-fitted-level-1);\n",
       "}\n",
       "\n",
       "/* On hover */\n",
       "#sk-container-id-1 a.estimator_doc_link:hover {\n",
       "  /* unfitted */\n",
       "  background-color: var(--sklearn-color-unfitted-level-3);\n",
       "  color: var(--sklearn-color-background);\n",
       "  text-decoration: none;\n",
       "}\n",
       "\n",
       "#sk-container-id-1 a.estimator_doc_link.fitted:hover {\n",
       "  /* fitted */\n",
       "  background-color: var(--sklearn-color-fitted-level-3);\n",
       "}\n",
       "</style><div id=\"sk-container-id-1\" class=\"sk-top-container\"><div class=\"sk-text-repr-fallback\"><pre>StandardScaler()</pre><b>In a Jupyter environment, please rerun this cell to show the HTML representation or trust the notebook. <br />On GitHub, the HTML representation is unable to render, please try loading this page with nbviewer.org.</b></div><div class=\"sk-container\" hidden><div class=\"sk-item\"><div class=\"sk-estimator fitted sk-toggleable\"><input class=\"sk-toggleable__control sk-hidden--visually\" id=\"sk-estimator-id-1\" type=\"checkbox\" checked><label for=\"sk-estimator-id-1\" class=\"sk-toggleable__label fitted sk-toggleable__label-arrow fitted\">&nbsp;&nbsp;StandardScaler<a class=\"sk-estimator-doc-link fitted\" rel=\"noreferrer\" target=\"_blank\" href=\"https://scikit-learn.org/1.5/modules/generated/sklearn.preprocessing.StandardScaler.html\">?<span>Documentation for StandardScaler</span></a><span class=\"sk-estimator-doc-link fitted\">i<span>Fitted</span></span></label><div class=\"sk-toggleable__content fitted\"><pre>StandardScaler()</pre></div> </div></div></div></div>"
      ]
     },
     "execution_count": 7,
     "metadata": {},
     "output_type": "execute_result"
    }
   ],
   "execution_count": 7
  },
  {
   "metadata": {
    "ExecuteTime": {
     "end_time": "2024-10-19T14:47:01.034058Z",
     "start_time": "2024-10-19T14:47:01.027537Z"
    }
   },
   "cell_type": "code",
   "source": [
    "# Saving the models for future use\n",
    "# Model pickle file Names\n",
    "X_MinMax_scale_pkl = \"./Artifacts/X_MinMax_scale.pkl\" \n",
    "X_Std_scale_pkl = \"./Artifacts/X_Std_scale.pkl\" \n",
    "X_Tgt_encode_pkl = \"./Artifacts/X_Tgt_encode.pkl\" \n",
    "y_Std_scale_pkl = \"./Artifacts/y_Std_scale.pkl\" \n",
    "\n",
    "with open(X_MinMax_scale_pkl, \"wb\") as pfile:\n",
    "    pickle.dump(preprocessor.named_transformers_[X_MinMaxModelName], pfile)\n",
    "\n",
    "with open(X_Std_scale_pkl, \"wb\") as pfile:\n",
    "    pickle.dump(preprocessor.named_transformers_[X_StdModelName], pfile)\n",
    "\n",
    "with open(X_Tgt_encode_pkl, \"wb\") as pfile:\n",
    "    pickle.dump(preprocessor.named_transformers_[X_TgtModelName], pfile)\n",
    "\n",
    "with open(y_Std_scale_pkl, \"wb\") as pfile:\n",
    "    pickle.dump(yStdScaler, pfile)"
   ],
   "outputs": [],
   "execution_count": 8
  },
  {
   "cell_type": "code",
   "metadata": {
    "ExecuteTime": {
     "end_time": "2024-10-19T14:47:01.074178Z",
     "start_time": "2024-10-19T14:47:01.034571Z"
    }
   },
   "source": [
    "## now transforming the continuous Features\n",
    "X_train_scaled = pd.DataFrame(preprocessor.transform(X_train), columns = preprocessor.get_feature_names_out())\n",
    "y_train_scaled = yStdScaler.transform(y_train.values.reshape(-1, 1))\n",
    "\n",
    "X_val_scaled = pd.DataFrame(preprocessor.transform(X_val), columns = preprocessor.get_feature_names_out())\n",
    "y_val_scaled = yStdScaler.transform(y_val.values.reshape(-1, 1))\n",
    "\n",
    "X_test_scaled = pd.DataFrame(preprocessor.transform(X_test), columns = preprocessor.get_feature_names_out())\n",
    "y_test_scaled = yStdScaler.transform(y_test.values.reshape(-1, 1))"
   ],
   "outputs": [],
   "execution_count": 9
  },
  {
   "metadata": {},
   "cell_type": "markdown",
   "source": "### Create and tune the LR model"
  },
  {
   "metadata": {
    "ExecuteTime": {
     "end_time": "2024-10-19T14:47:01.079692Z",
     "start_time": "2024-10-19T14:47:01.075702Z"
    }
   },
   "cell_type": "code",
   "source": [
    "## adjusted R2 Formula\n",
    "\n",
    "def adjusted_r2_score(X, y, ypred):\n",
    "    ss_res = np.sum((y-ypred)**2)\n",
    "    ss_mean = np.sum((y-y.mean())**2)\n",
    "    m, d = X.shape\n",
    "    r2 = 1 - ss_res/ss_mean\n",
    "    adjusted_r2_score = 1-(((1-r2) * (m -1))/(m-d-1))\n",
    "    \n",
    "    return adjusted_r2_score"
   ],
   "outputs": [],
   "execution_count": 10
  },
  {
   "metadata": {
    "ExecuteTime": {
     "end_time": "2024-10-19T14:47:01.093656Z",
     "start_time": "2024-10-19T14:47:01.081697Z"
    }
   },
   "cell_type": "code",
   "source": [
    "## Basic LR model.\n",
    "lrModel = LinearRegression()\n",
    "lrModel.fit(X_train_scaled, y_train_scaled)"
   ],
   "outputs": [
    {
     "data": {
      "text/plain": [
       "LinearRegression()"
      ],
      "text/html": [
       "<style>#sk-container-id-2 {\n",
       "  /* Definition of color scheme common for light and dark mode */\n",
       "  --sklearn-color-text: black;\n",
       "  --sklearn-color-line: gray;\n",
       "  /* Definition of color scheme for unfitted estimators */\n",
       "  --sklearn-color-unfitted-level-0: #fff5e6;\n",
       "  --sklearn-color-unfitted-level-1: #f6e4d2;\n",
       "  --sklearn-color-unfitted-level-2: #ffe0b3;\n",
       "  --sklearn-color-unfitted-level-3: chocolate;\n",
       "  /* Definition of color scheme for fitted estimators */\n",
       "  --sklearn-color-fitted-level-0: #f0f8ff;\n",
       "  --sklearn-color-fitted-level-1: #d4ebff;\n",
       "  --sklearn-color-fitted-level-2: #b3dbfd;\n",
       "  --sklearn-color-fitted-level-3: cornflowerblue;\n",
       "\n",
       "  /* Specific color for light theme */\n",
       "  --sklearn-color-text-on-default-background: var(--sg-text-color, var(--theme-code-foreground, var(--jp-content-font-color1, black)));\n",
       "  --sklearn-color-background: var(--sg-background-color, var(--theme-background, var(--jp-layout-color0, white)));\n",
       "  --sklearn-color-border-box: var(--sg-text-color, var(--theme-code-foreground, var(--jp-content-font-color1, black)));\n",
       "  --sklearn-color-icon: #696969;\n",
       "\n",
       "  @media (prefers-color-scheme: dark) {\n",
       "    /* Redefinition of color scheme for dark theme */\n",
       "    --sklearn-color-text-on-default-background: var(--sg-text-color, var(--theme-code-foreground, var(--jp-content-font-color1, white)));\n",
       "    --sklearn-color-background: var(--sg-background-color, var(--theme-background, var(--jp-layout-color0, #111)));\n",
       "    --sklearn-color-border-box: var(--sg-text-color, var(--theme-code-foreground, var(--jp-content-font-color1, white)));\n",
       "    --sklearn-color-icon: #878787;\n",
       "  }\n",
       "}\n",
       "\n",
       "#sk-container-id-2 {\n",
       "  color: var(--sklearn-color-text);\n",
       "}\n",
       "\n",
       "#sk-container-id-2 pre {\n",
       "  padding: 0;\n",
       "}\n",
       "\n",
       "#sk-container-id-2 input.sk-hidden--visually {\n",
       "  border: 0;\n",
       "  clip: rect(1px 1px 1px 1px);\n",
       "  clip: rect(1px, 1px, 1px, 1px);\n",
       "  height: 1px;\n",
       "  margin: -1px;\n",
       "  overflow: hidden;\n",
       "  padding: 0;\n",
       "  position: absolute;\n",
       "  width: 1px;\n",
       "}\n",
       "\n",
       "#sk-container-id-2 div.sk-dashed-wrapped {\n",
       "  border: 1px dashed var(--sklearn-color-line);\n",
       "  margin: 0 0.4em 0.5em 0.4em;\n",
       "  box-sizing: border-box;\n",
       "  padding-bottom: 0.4em;\n",
       "  background-color: var(--sklearn-color-background);\n",
       "}\n",
       "\n",
       "#sk-container-id-2 div.sk-container {\n",
       "  /* jupyter's `normalize.less` sets `[hidden] { display: none; }`\n",
       "     but bootstrap.min.css set `[hidden] { display: none !important; }`\n",
       "     so we also need the `!important` here to be able to override the\n",
       "     default hidden behavior on the sphinx rendered scikit-learn.org.\n",
       "     See: https://github.com/scikit-learn/scikit-learn/issues/21755 */\n",
       "  display: inline-block !important;\n",
       "  position: relative;\n",
       "}\n",
       "\n",
       "#sk-container-id-2 div.sk-text-repr-fallback {\n",
       "  display: none;\n",
       "}\n",
       "\n",
       "div.sk-parallel-item,\n",
       "div.sk-serial,\n",
       "div.sk-item {\n",
       "  /* draw centered vertical line to link estimators */\n",
       "  background-image: linear-gradient(var(--sklearn-color-text-on-default-background), var(--sklearn-color-text-on-default-background));\n",
       "  background-size: 2px 100%;\n",
       "  background-repeat: no-repeat;\n",
       "  background-position: center center;\n",
       "}\n",
       "\n",
       "/* Parallel-specific style estimator block */\n",
       "\n",
       "#sk-container-id-2 div.sk-parallel-item::after {\n",
       "  content: \"\";\n",
       "  width: 100%;\n",
       "  border-bottom: 2px solid var(--sklearn-color-text-on-default-background);\n",
       "  flex-grow: 1;\n",
       "}\n",
       "\n",
       "#sk-container-id-2 div.sk-parallel {\n",
       "  display: flex;\n",
       "  align-items: stretch;\n",
       "  justify-content: center;\n",
       "  background-color: var(--sklearn-color-background);\n",
       "  position: relative;\n",
       "}\n",
       "\n",
       "#sk-container-id-2 div.sk-parallel-item {\n",
       "  display: flex;\n",
       "  flex-direction: column;\n",
       "}\n",
       "\n",
       "#sk-container-id-2 div.sk-parallel-item:first-child::after {\n",
       "  align-self: flex-end;\n",
       "  width: 50%;\n",
       "}\n",
       "\n",
       "#sk-container-id-2 div.sk-parallel-item:last-child::after {\n",
       "  align-self: flex-start;\n",
       "  width: 50%;\n",
       "}\n",
       "\n",
       "#sk-container-id-2 div.sk-parallel-item:only-child::after {\n",
       "  width: 0;\n",
       "}\n",
       "\n",
       "/* Serial-specific style estimator block */\n",
       "\n",
       "#sk-container-id-2 div.sk-serial {\n",
       "  display: flex;\n",
       "  flex-direction: column;\n",
       "  align-items: center;\n",
       "  background-color: var(--sklearn-color-background);\n",
       "  padding-right: 1em;\n",
       "  padding-left: 1em;\n",
       "}\n",
       "\n",
       "\n",
       "/* Toggleable style: style used for estimator/Pipeline/ColumnTransformer box that is\n",
       "clickable and can be expanded/collapsed.\n",
       "- Pipeline and ColumnTransformer use this feature and define the default style\n",
       "- Estimators will overwrite some part of the style using the `sk-estimator` class\n",
       "*/\n",
       "\n",
       "/* Pipeline and ColumnTransformer style (default) */\n",
       "\n",
       "#sk-container-id-2 div.sk-toggleable {\n",
       "  /* Default theme specific background. It is overwritten whether we have a\n",
       "  specific estimator or a Pipeline/ColumnTransformer */\n",
       "  background-color: var(--sklearn-color-background);\n",
       "}\n",
       "\n",
       "/* Toggleable label */\n",
       "#sk-container-id-2 label.sk-toggleable__label {\n",
       "  cursor: pointer;\n",
       "  display: block;\n",
       "  width: 100%;\n",
       "  margin-bottom: 0;\n",
       "  padding: 0.5em;\n",
       "  box-sizing: border-box;\n",
       "  text-align: center;\n",
       "}\n",
       "\n",
       "#sk-container-id-2 label.sk-toggleable__label-arrow:before {\n",
       "  /* Arrow on the left of the label */\n",
       "  content: \"▸\";\n",
       "  float: left;\n",
       "  margin-right: 0.25em;\n",
       "  color: var(--sklearn-color-icon);\n",
       "}\n",
       "\n",
       "#sk-container-id-2 label.sk-toggleable__label-arrow:hover:before {\n",
       "  color: var(--sklearn-color-text);\n",
       "}\n",
       "\n",
       "/* Toggleable content - dropdown */\n",
       "\n",
       "#sk-container-id-2 div.sk-toggleable__content {\n",
       "  max-height: 0;\n",
       "  max-width: 0;\n",
       "  overflow: hidden;\n",
       "  text-align: left;\n",
       "  /* unfitted */\n",
       "  background-color: var(--sklearn-color-unfitted-level-0);\n",
       "}\n",
       "\n",
       "#sk-container-id-2 div.sk-toggleable__content.fitted {\n",
       "  /* fitted */\n",
       "  background-color: var(--sklearn-color-fitted-level-0);\n",
       "}\n",
       "\n",
       "#sk-container-id-2 div.sk-toggleable__content pre {\n",
       "  margin: 0.2em;\n",
       "  border-radius: 0.25em;\n",
       "  color: var(--sklearn-color-text);\n",
       "  /* unfitted */\n",
       "  background-color: var(--sklearn-color-unfitted-level-0);\n",
       "}\n",
       "\n",
       "#sk-container-id-2 div.sk-toggleable__content.fitted pre {\n",
       "  /* unfitted */\n",
       "  background-color: var(--sklearn-color-fitted-level-0);\n",
       "}\n",
       "\n",
       "#sk-container-id-2 input.sk-toggleable__control:checked~div.sk-toggleable__content {\n",
       "  /* Expand drop-down */\n",
       "  max-height: 200px;\n",
       "  max-width: 100%;\n",
       "  overflow: auto;\n",
       "}\n",
       "\n",
       "#sk-container-id-2 input.sk-toggleable__control:checked~label.sk-toggleable__label-arrow:before {\n",
       "  content: \"▾\";\n",
       "}\n",
       "\n",
       "/* Pipeline/ColumnTransformer-specific style */\n",
       "\n",
       "#sk-container-id-2 div.sk-label input.sk-toggleable__control:checked~label.sk-toggleable__label {\n",
       "  color: var(--sklearn-color-text);\n",
       "  background-color: var(--sklearn-color-unfitted-level-2);\n",
       "}\n",
       "\n",
       "#sk-container-id-2 div.sk-label.fitted input.sk-toggleable__control:checked~label.sk-toggleable__label {\n",
       "  background-color: var(--sklearn-color-fitted-level-2);\n",
       "}\n",
       "\n",
       "/* Estimator-specific style */\n",
       "\n",
       "/* Colorize estimator box */\n",
       "#sk-container-id-2 div.sk-estimator input.sk-toggleable__control:checked~label.sk-toggleable__label {\n",
       "  /* unfitted */\n",
       "  background-color: var(--sklearn-color-unfitted-level-2);\n",
       "}\n",
       "\n",
       "#sk-container-id-2 div.sk-estimator.fitted input.sk-toggleable__control:checked~label.sk-toggleable__label {\n",
       "  /* fitted */\n",
       "  background-color: var(--sklearn-color-fitted-level-2);\n",
       "}\n",
       "\n",
       "#sk-container-id-2 div.sk-label label.sk-toggleable__label,\n",
       "#sk-container-id-2 div.sk-label label {\n",
       "  /* The background is the default theme color */\n",
       "  color: var(--sklearn-color-text-on-default-background);\n",
       "}\n",
       "\n",
       "/* On hover, darken the color of the background */\n",
       "#sk-container-id-2 div.sk-label:hover label.sk-toggleable__label {\n",
       "  color: var(--sklearn-color-text);\n",
       "  background-color: var(--sklearn-color-unfitted-level-2);\n",
       "}\n",
       "\n",
       "/* Label box, darken color on hover, fitted */\n",
       "#sk-container-id-2 div.sk-label.fitted:hover label.sk-toggleable__label.fitted {\n",
       "  color: var(--sklearn-color-text);\n",
       "  background-color: var(--sklearn-color-fitted-level-2);\n",
       "}\n",
       "\n",
       "/* Estimator label */\n",
       "\n",
       "#sk-container-id-2 div.sk-label label {\n",
       "  font-family: monospace;\n",
       "  font-weight: bold;\n",
       "  display: inline-block;\n",
       "  line-height: 1.2em;\n",
       "}\n",
       "\n",
       "#sk-container-id-2 div.sk-label-container {\n",
       "  text-align: center;\n",
       "}\n",
       "\n",
       "/* Estimator-specific */\n",
       "#sk-container-id-2 div.sk-estimator {\n",
       "  font-family: monospace;\n",
       "  border: 1px dotted var(--sklearn-color-border-box);\n",
       "  border-radius: 0.25em;\n",
       "  box-sizing: border-box;\n",
       "  margin-bottom: 0.5em;\n",
       "  /* unfitted */\n",
       "  background-color: var(--sklearn-color-unfitted-level-0);\n",
       "}\n",
       "\n",
       "#sk-container-id-2 div.sk-estimator.fitted {\n",
       "  /* fitted */\n",
       "  background-color: var(--sklearn-color-fitted-level-0);\n",
       "}\n",
       "\n",
       "/* on hover */\n",
       "#sk-container-id-2 div.sk-estimator:hover {\n",
       "  /* unfitted */\n",
       "  background-color: var(--sklearn-color-unfitted-level-2);\n",
       "}\n",
       "\n",
       "#sk-container-id-2 div.sk-estimator.fitted:hover {\n",
       "  /* fitted */\n",
       "  background-color: var(--sklearn-color-fitted-level-2);\n",
       "}\n",
       "\n",
       "/* Specification for estimator info (e.g. \"i\" and \"?\") */\n",
       "\n",
       "/* Common style for \"i\" and \"?\" */\n",
       "\n",
       ".sk-estimator-doc-link,\n",
       "a:link.sk-estimator-doc-link,\n",
       "a:visited.sk-estimator-doc-link {\n",
       "  float: right;\n",
       "  font-size: smaller;\n",
       "  line-height: 1em;\n",
       "  font-family: monospace;\n",
       "  background-color: var(--sklearn-color-background);\n",
       "  border-radius: 1em;\n",
       "  height: 1em;\n",
       "  width: 1em;\n",
       "  text-decoration: none !important;\n",
       "  margin-left: 1ex;\n",
       "  /* unfitted */\n",
       "  border: var(--sklearn-color-unfitted-level-1) 1pt solid;\n",
       "  color: var(--sklearn-color-unfitted-level-1);\n",
       "}\n",
       "\n",
       ".sk-estimator-doc-link.fitted,\n",
       "a:link.sk-estimator-doc-link.fitted,\n",
       "a:visited.sk-estimator-doc-link.fitted {\n",
       "  /* fitted */\n",
       "  border: var(--sklearn-color-fitted-level-1) 1pt solid;\n",
       "  color: var(--sklearn-color-fitted-level-1);\n",
       "}\n",
       "\n",
       "/* On hover */\n",
       "div.sk-estimator:hover .sk-estimator-doc-link:hover,\n",
       ".sk-estimator-doc-link:hover,\n",
       "div.sk-label-container:hover .sk-estimator-doc-link:hover,\n",
       ".sk-estimator-doc-link:hover {\n",
       "  /* unfitted */\n",
       "  background-color: var(--sklearn-color-unfitted-level-3);\n",
       "  color: var(--sklearn-color-background);\n",
       "  text-decoration: none;\n",
       "}\n",
       "\n",
       "div.sk-estimator.fitted:hover .sk-estimator-doc-link.fitted:hover,\n",
       ".sk-estimator-doc-link.fitted:hover,\n",
       "div.sk-label-container:hover .sk-estimator-doc-link.fitted:hover,\n",
       ".sk-estimator-doc-link.fitted:hover {\n",
       "  /* fitted */\n",
       "  background-color: var(--sklearn-color-fitted-level-3);\n",
       "  color: var(--sklearn-color-background);\n",
       "  text-decoration: none;\n",
       "}\n",
       "\n",
       "/* Span, style for the box shown on hovering the info icon */\n",
       ".sk-estimator-doc-link span {\n",
       "  display: none;\n",
       "  z-index: 9999;\n",
       "  position: relative;\n",
       "  font-weight: normal;\n",
       "  right: .2ex;\n",
       "  padding: .5ex;\n",
       "  margin: .5ex;\n",
       "  width: min-content;\n",
       "  min-width: 20ex;\n",
       "  max-width: 50ex;\n",
       "  color: var(--sklearn-color-text);\n",
       "  box-shadow: 2pt 2pt 4pt #999;\n",
       "  /* unfitted */\n",
       "  background: var(--sklearn-color-unfitted-level-0);\n",
       "  border: .5pt solid var(--sklearn-color-unfitted-level-3);\n",
       "}\n",
       "\n",
       ".sk-estimator-doc-link.fitted span {\n",
       "  /* fitted */\n",
       "  background: var(--sklearn-color-fitted-level-0);\n",
       "  border: var(--sklearn-color-fitted-level-3);\n",
       "}\n",
       "\n",
       ".sk-estimator-doc-link:hover span {\n",
       "  display: block;\n",
       "}\n",
       "\n",
       "/* \"?\"-specific style due to the `<a>` HTML tag */\n",
       "\n",
       "#sk-container-id-2 a.estimator_doc_link {\n",
       "  float: right;\n",
       "  font-size: 1rem;\n",
       "  line-height: 1em;\n",
       "  font-family: monospace;\n",
       "  background-color: var(--sklearn-color-background);\n",
       "  border-radius: 1rem;\n",
       "  height: 1rem;\n",
       "  width: 1rem;\n",
       "  text-decoration: none;\n",
       "  /* unfitted */\n",
       "  color: var(--sklearn-color-unfitted-level-1);\n",
       "  border: var(--sklearn-color-unfitted-level-1) 1pt solid;\n",
       "}\n",
       "\n",
       "#sk-container-id-2 a.estimator_doc_link.fitted {\n",
       "  /* fitted */\n",
       "  border: var(--sklearn-color-fitted-level-1) 1pt solid;\n",
       "  color: var(--sklearn-color-fitted-level-1);\n",
       "}\n",
       "\n",
       "/* On hover */\n",
       "#sk-container-id-2 a.estimator_doc_link:hover {\n",
       "  /* unfitted */\n",
       "  background-color: var(--sklearn-color-unfitted-level-3);\n",
       "  color: var(--sklearn-color-background);\n",
       "  text-decoration: none;\n",
       "}\n",
       "\n",
       "#sk-container-id-2 a.estimator_doc_link.fitted:hover {\n",
       "  /* fitted */\n",
       "  background-color: var(--sklearn-color-fitted-level-3);\n",
       "}\n",
       "</style><div id=\"sk-container-id-2\" class=\"sk-top-container\"><div class=\"sk-text-repr-fallback\"><pre>LinearRegression()</pre><b>In a Jupyter environment, please rerun this cell to show the HTML representation or trust the notebook. <br />On GitHub, the HTML representation is unable to render, please try loading this page with nbviewer.org.</b></div><div class=\"sk-container\" hidden><div class=\"sk-item\"><div class=\"sk-estimator fitted sk-toggleable\"><input class=\"sk-toggleable__control sk-hidden--visually\" id=\"sk-estimator-id-2\" type=\"checkbox\" checked><label for=\"sk-estimator-id-2\" class=\"sk-toggleable__label fitted sk-toggleable__label-arrow fitted\">&nbsp;&nbsp;LinearRegression<a class=\"sk-estimator-doc-link fitted\" rel=\"noreferrer\" target=\"_blank\" href=\"https://scikit-learn.org/1.5/modules/generated/sklearn.linear_model.LinearRegression.html\">?<span>Documentation for LinearRegression</span></a><span class=\"sk-estimator-doc-link fitted\">i<span>Fitted</span></span></label><div class=\"sk-toggleable__content fitted\"><pre>LinearRegression()</pre></div> </div></div></div></div>"
      ]
     },
     "execution_count": 11,
     "metadata": {},
     "output_type": "execute_result"
    }
   ],
   "execution_count": 11
  },
  {
   "metadata": {
    "ExecuteTime": {
     "end_time": "2024-10-19T14:47:01.098293Z",
     "start_time": "2024-10-19T14:47:01.094665Z"
    }
   },
   "cell_type": "code",
   "source": "yPred = lrModel.predict(X_val_scaled)",
   "outputs": [],
   "execution_count": 12
  },
  {
   "metadata": {
    "ExecuteTime": {
     "end_time": "2024-10-19T14:47:01.110307Z",
     "start_time": "2024-10-19T14:47:01.098815Z"
    }
   },
   "cell_type": "code",
   "source": [
    "print(\"R2:\")\n",
    "print(\"\\t - Training Score: \", lrModel.score(X_train_scaled, y_train_scaled))\n",
    "print(\"\\t - Validation Score: \", lrModel.score(X_val_scaled, y_val_scaled))\n",
    "print(\"Adjusted R2:\")\n",
    "print(\"\\t - Training Score: \", adjusted_r2_score(X_train_scaled,y_train_scaled,lrModel.predict(X_train_scaled)))\n",
    "print(\"\\t - Validation Score: \", adjusted_r2_score(X_val_scaled,y_val_scaled,lrModel.predict(X_val_scaled)))\n"
   ],
   "outputs": [
    {
     "name": "stdout",
     "output_type": "stream",
     "text": [
      "R2:\n",
      "\t - Training Score:  0.9255024889717118\n",
      "\t - Validation Score:  0.7671921700666988\n",
      "Adjusted R2:\n",
      "\t - Training Score:  0.925432805925682\n",
      "\t - Validation Score:  0.7665375468230213\n"
     ]
    }
   ],
   "execution_count": 13
  },
  {
   "metadata": {},
   "cell_type": "markdown",
   "source": "We can see that there is a large difference between Training score and Validation score."
  },
  {
   "metadata": {},
   "cell_type": "markdown",
   "source": "### OLS Model"
  },
  {
   "metadata": {
    "ExecuteTime": {
     "end_time": "2024-10-19T14:47:01.136339Z",
     "start_time": "2024-10-19T14:47:01.110307Z"
    }
   },
   "cell_type": "code",
   "source": [
    "# Understanding the data using OLS model\n",
    "smOLS_X = sm.add_constant(X_train_scaled)\n",
    "smOLS_y = y_train_scaled\n",
    "\n",
    "olsModel = sm.OLS(endog=smOLS_y, exog=smOLS_X)\n",
    "results = olsModel.fit()\n",
    "display(results.summary())\n"
   ],
   "outputs": [
    {
     "data": {
      "text/plain": [
       "<class 'statsmodels.iolib.summary.Summary'>\n",
       "\"\"\"\n",
       "                            OLS Regression Results                            \n",
       "==============================================================================\n",
       "Dep. Variable:                      y   R-squared:                       0.926\n",
       "Model:                            OLS   Adj. R-squared:                  0.925\n",
       "Method:                 Least Squares   F-statistic:                 1.328e+04\n",
       "Date:                Sat, 19 Oct 2024   Prob (F-statistic):               0.00\n",
       "Time:                        20:17:01   Log-Likelihood:                -1417.9\n",
       "No. Observations:               11772   AIC:                             2860.\n",
       "Df Residuals:                   11760   BIC:                             2948.\n",
       "Df Model:                          11                                         \n",
       "Covariance Type:            nonrobust                                         \n",
       "===============================================================================================\n",
       "                                  coef    std err          t      P>|t|      [0.025      0.975]\n",
       "-----------------------------------------------------------------------------------------------\n",
       "const                          -1.2253      0.026    -47.172      0.000      -1.276      -1.174\n",
       "stdModel__year                 -0.0801      0.003    -24.419      0.000      -0.086      -0.074\n",
       "stdModel__km_driven            -0.0288      0.003     -9.772      0.000      -0.035      -0.023\n",
       "stdModel__mileage              -0.0222      0.004     -5.502      0.000      -0.030      -0.014\n",
       "stdModel__engine                0.0026      0.006      0.435      0.664      -0.009       0.014\n",
       "stdModel__max_power             0.0171      0.005      3.284      0.001       0.007       0.027\n",
       "tgtModel__make                  0.0199      0.001     20.061      0.000       0.018       0.022\n",
       "tgtModel__model                 0.1505      0.001    160.039      0.000       0.149       0.152\n",
       "tgtModel__seller_type           0.0069      0.002      3.126      0.002       0.003       0.011\n",
       "tgtModel__fuel_type             0.0090      0.002      4.670      0.000       0.005       0.013\n",
       "tgtModel__transmission_type     0.0002      0.001      0.212      0.832      -0.002       0.002\n",
       "tgtModel__seats                -0.0038      0.002     -1.707      0.088      -0.008       0.001\n",
       "==============================================================================\n",
       "Omnibus:                    10509.276   Durbin-Watson:                   1.996\n",
       "Prob(Omnibus):                  0.000   Jarque-Bera (JB):          1126786.111\n",
       "Skew:                           3.842   Prob(JB):                         0.00\n",
       "Kurtosis:                      50.309   Cond. No.                         182.\n",
       "==============================================================================\n",
       "\n",
       "Notes:\n",
       "[1] Standard Errors assume that the covariance matrix of the errors is correctly specified.\n",
       "\"\"\""
      ],
      "text/html": [
       "<table class=\"simpletable\">\n",
       "<caption>OLS Regression Results</caption>\n",
       "<tr>\n",
       "  <th>Dep. Variable:</th>            <td>y</td>        <th>  R-squared:         </th> <td>   0.926</td> \n",
       "</tr>\n",
       "<tr>\n",
       "  <th>Model:</th>                   <td>OLS</td>       <th>  Adj. R-squared:    </th> <td>   0.925</td> \n",
       "</tr>\n",
       "<tr>\n",
       "  <th>Method:</th>             <td>Least Squares</td>  <th>  F-statistic:       </th> <td>1.328e+04</td>\n",
       "</tr>\n",
       "<tr>\n",
       "  <th>Date:</th>             <td>Sat, 19 Oct 2024</td> <th>  Prob (F-statistic):</th>  <td>  0.00</td>  \n",
       "</tr>\n",
       "<tr>\n",
       "  <th>Time:</th>                 <td>20:17:01</td>     <th>  Log-Likelihood:    </th> <td> -1417.9</td> \n",
       "</tr>\n",
       "<tr>\n",
       "  <th>No. Observations:</th>      <td> 11772</td>      <th>  AIC:               </th> <td>   2860.</td> \n",
       "</tr>\n",
       "<tr>\n",
       "  <th>Df Residuals:</th>          <td> 11760</td>      <th>  BIC:               </th> <td>   2948.</td> \n",
       "</tr>\n",
       "<tr>\n",
       "  <th>Df Model:</th>              <td>    11</td>      <th>                     </th>     <td> </td>    \n",
       "</tr>\n",
       "<tr>\n",
       "  <th>Covariance Type:</th>      <td>nonrobust</td>    <th>                     </th>     <td> </td>    \n",
       "</tr>\n",
       "</table>\n",
       "<table class=\"simpletable\">\n",
       "<tr>\n",
       "               <td></td>                  <th>coef</th>     <th>std err</th>      <th>t</th>      <th>P>|t|</th>  <th>[0.025</th>    <th>0.975]</th>  \n",
       "</tr>\n",
       "<tr>\n",
       "  <th>const</th>                       <td>   -1.2253</td> <td>    0.026</td> <td>  -47.172</td> <td> 0.000</td> <td>   -1.276</td> <td>   -1.174</td>\n",
       "</tr>\n",
       "<tr>\n",
       "  <th>stdModel__year</th>              <td>   -0.0801</td> <td>    0.003</td> <td>  -24.419</td> <td> 0.000</td> <td>   -0.086</td> <td>   -0.074</td>\n",
       "</tr>\n",
       "<tr>\n",
       "  <th>stdModel__km_driven</th>         <td>   -0.0288</td> <td>    0.003</td> <td>   -9.772</td> <td> 0.000</td> <td>   -0.035</td> <td>   -0.023</td>\n",
       "</tr>\n",
       "<tr>\n",
       "  <th>stdModel__mileage</th>           <td>   -0.0222</td> <td>    0.004</td> <td>   -5.502</td> <td> 0.000</td> <td>   -0.030</td> <td>   -0.014</td>\n",
       "</tr>\n",
       "<tr>\n",
       "  <th>stdModel__engine</th>            <td>    0.0026</td> <td>    0.006</td> <td>    0.435</td> <td> 0.664</td> <td>   -0.009</td> <td>    0.014</td>\n",
       "</tr>\n",
       "<tr>\n",
       "  <th>stdModel__max_power</th>         <td>    0.0171</td> <td>    0.005</td> <td>    3.284</td> <td> 0.001</td> <td>    0.007</td> <td>    0.027</td>\n",
       "</tr>\n",
       "<tr>\n",
       "  <th>tgtModel__make</th>              <td>    0.0199</td> <td>    0.001</td> <td>   20.061</td> <td> 0.000</td> <td>    0.018</td> <td>    0.022</td>\n",
       "</tr>\n",
       "<tr>\n",
       "  <th>tgtModel__model</th>             <td>    0.1505</td> <td>    0.001</td> <td>  160.039</td> <td> 0.000</td> <td>    0.149</td> <td>    0.152</td>\n",
       "</tr>\n",
       "<tr>\n",
       "  <th>tgtModel__seller_type</th>       <td>    0.0069</td> <td>    0.002</td> <td>    3.126</td> <td> 0.002</td> <td>    0.003</td> <td>    0.011</td>\n",
       "</tr>\n",
       "<tr>\n",
       "  <th>tgtModel__fuel_type</th>         <td>    0.0090</td> <td>    0.002</td> <td>    4.670</td> <td> 0.000</td> <td>    0.005</td> <td>    0.013</td>\n",
       "</tr>\n",
       "<tr>\n",
       "  <th>tgtModel__transmission_type</th> <td>    0.0002</td> <td>    0.001</td> <td>    0.212</td> <td> 0.832</td> <td>   -0.002</td> <td>    0.002</td>\n",
       "</tr>\n",
       "<tr>\n",
       "  <th>tgtModel__seats</th>             <td>   -0.0038</td> <td>    0.002</td> <td>   -1.707</td> <td> 0.088</td> <td>   -0.008</td> <td>    0.001</td>\n",
       "</tr>\n",
       "</table>\n",
       "<table class=\"simpletable\">\n",
       "<tr>\n",
       "  <th>Omnibus:</th>       <td>10509.276</td> <th>  Durbin-Watson:     </th>  <td>   1.996</td>  \n",
       "</tr>\n",
       "<tr>\n",
       "  <th>Prob(Omnibus):</th>  <td> 0.000</td>   <th>  Jarque-Bera (JB):  </th> <td>1126786.111</td>\n",
       "</tr>\n",
       "<tr>\n",
       "  <th>Skew:</th>           <td> 3.842</td>   <th>  Prob(JB):          </th>  <td>    0.00</td>  \n",
       "</tr>\n",
       "<tr>\n",
       "  <th>Kurtosis:</th>       <td>50.309</td>   <th>  Cond. No.          </th>  <td>    182.</td>  \n",
       "</tr>\n",
       "</table><br/><br/>Notes:<br/>[1] Standard Errors assume that the covariance matrix of the errors is correctly specified."
      ],
      "text/latex": "\\begin{center}\n\\begin{tabular}{lclc}\n\\toprule\n\\textbf{Dep. Variable:}                 &        y         & \\textbf{  R-squared:         } &      0.926   \\\\\n\\textbf{Model:}                         &       OLS        & \\textbf{  Adj. R-squared:    } &      0.925   \\\\\n\\textbf{Method:}                        &  Least Squares   & \\textbf{  F-statistic:       } &  1.328e+04   \\\\\n\\textbf{Date:}                          & Sat, 19 Oct 2024 & \\textbf{  Prob (F-statistic):} &      0.00    \\\\\n\\textbf{Time:}                          &     20:17:01     & \\textbf{  Log-Likelihood:    } &    -1417.9   \\\\\n\\textbf{No. Observations:}              &       11772      & \\textbf{  AIC:               } &      2860.   \\\\\n\\textbf{Df Residuals:}                  &       11760      & \\textbf{  BIC:               } &      2948.   \\\\\n\\textbf{Df Model:}                      &          11      & \\textbf{                     } &              \\\\\n\\textbf{Covariance Type:}               &    nonrobust     & \\textbf{                     } &              \\\\\n\\bottomrule\n\\end{tabular}\n\\begin{tabular}{lcccccc}\n                                        & \\textbf{coef} & \\textbf{std err} & \\textbf{t} & \\textbf{P$> |$t$|$} & \\textbf{[0.025} & \\textbf{0.975]}  \\\\\n\\midrule\n\\textbf{const}                          &      -1.2253  &        0.026     &   -47.172  &         0.000        &       -1.276    &       -1.174     \\\\\n\\textbf{stdModel\\_\\_year}               &      -0.0801  &        0.003     &   -24.419  &         0.000        &       -0.086    &       -0.074     \\\\\n\\textbf{stdModel\\_\\_km\\_driven}         &      -0.0288  &        0.003     &    -9.772  &         0.000        &       -0.035    &       -0.023     \\\\\n\\textbf{stdModel\\_\\_mileage}            &      -0.0222  &        0.004     &    -5.502  &         0.000        &       -0.030    &       -0.014     \\\\\n\\textbf{stdModel\\_\\_engine}             &       0.0026  &        0.006     &     0.435  &         0.664        &       -0.009    &        0.014     \\\\\n\\textbf{stdModel\\_\\_max\\_power}         &       0.0171  &        0.005     &     3.284  &         0.001        &        0.007    &        0.027     \\\\\n\\textbf{tgtModel\\_\\_make}               &       0.0199  &        0.001     &    20.061  &         0.000        &        0.018    &        0.022     \\\\\n\\textbf{tgtModel\\_\\_model}              &       0.1505  &        0.001     &   160.039  &         0.000        &        0.149    &        0.152     \\\\\n\\textbf{tgtModel\\_\\_seller\\_type}       &       0.0069  &        0.002     &     3.126  &         0.002        &        0.003    &        0.011     \\\\\n\\textbf{tgtModel\\_\\_fuel\\_type}         &       0.0090  &        0.002     &     4.670  &         0.000        &        0.005    &        0.013     \\\\\n\\textbf{tgtModel\\_\\_transmission\\_type} &       0.0002  &        0.001     &     0.212  &         0.832        &       -0.002    &        0.002     \\\\\n\\textbf{tgtModel\\_\\_seats}              &      -0.0038  &        0.002     &    -1.707  &         0.088        &       -0.008    &        0.001     \\\\\n\\bottomrule\n\\end{tabular}\n\\begin{tabular}{lclc}\n\\textbf{Omnibus:}       & 10509.276 & \\textbf{  Durbin-Watson:     } &      1.996   \\\\\n\\textbf{Prob(Omnibus):} &    0.000  & \\textbf{  Jarque-Bera (JB):  } & 1126786.111  \\\\\n\\textbf{Skew:}          &    3.842  & \\textbf{  Prob(JB):          } &       0.00   \\\\\n\\textbf{Kurtosis:}      &   50.309  & \\textbf{  Cond. No.          } &       182.   \\\\\n\\bottomrule\n\\end{tabular}\n%\\caption{OLS Regression Results}\n\\end{center}\n\nNotes: \\newline\n [1] Standard Errors assume that the covariance matrix of the errors is correctly specified."
     },
     "metadata": {},
     "output_type": "display_data"
    }
   ],
   "execution_count": 14
  },
  {
   "metadata": {},
   "cell_type": "markdown",
   "source": [
    "OLS Models hypothesis\n",
    "- H0: Features are not important and are useless.\n",
    "- HA: Features are important"
   ]
  },
  {
   "metadata": {
    "ExecuteTime": {
     "end_time": "2024-10-19T14:47:01.197541Z",
     "start_time": "2024-10-19T14:47:01.136339Z"
    }
   },
   "cell_type": "code",
   "source": [
    "## trying to reduce the number of unwanted features using VIF\n",
    "X_train_scaled.head(1)\n",
    "\n",
    "vifData = pd.DataFrame({\"columns\": X_train_scaled.columns})\n",
    "vifData[\"vif\"] = [variance_inflation_factor(exog=X_train_scaled.values, exog_idx=idx) for idx in range(len(X_train_scaled.columns))]\n",
    "print(vifData)"
   ],
   "outputs": [
    {
     "name": "stdout",
     "output_type": "stream",
     "text": [
      "                        columns        vif\n",
      "0                stdModel__year   1.696686\n",
      "1           stdModel__km_driven   1.373477\n",
      "2             stdModel__mileage   2.502300\n",
      "3              stdModel__engine   4.383086\n",
      "4           stdModel__max_power   4.256942\n",
      "5                tgtModel__make   9.825664\n",
      "6               tgtModel__model  10.516907\n",
      "7         tgtModel__seller_type  24.802569\n",
      "8           tgtModel__fuel_type  23.067464\n",
      "9   tgtModel__transmission_type   8.207842\n",
      "10              tgtModel__seats  23.773498\n"
     ]
    }
   ],
   "execution_count": 15
  },
  {
   "metadata": {
    "ExecuteTime": {
     "end_time": "2024-10-19T14:47:01.400992Z",
     "start_time": "2024-10-19T14:47:01.197541Z"
    }
   },
   "cell_type": "code",
   "source": [
    "highestVIF = np.inf\n",
    "VIFThreshold = 10\n",
    "r2adjustedThreshold = 0.85\n",
    "iter = 0\n",
    "droppedCol = []\n",
    "X_train_scaled_vifClean = X_train_scaled.copy()\n",
    "while True:\n",
    "    vifData = pd.DataFrame({\"columns\": X_train_scaled_vifClean.columns})\n",
    "    vifData[\"vif\"] = [variance_inflation_factor(exog=X_train_scaled_vifClean.values, exog_idx=idx) for idx in range(len(X_train_scaled_vifClean.columns))]\n",
    "    maxIdx = vifData[\"vif\"].idxmax()\n",
    "    highestVIF = vifData.loc[maxIdx, \"vif\"]\n",
    "    columntoDrop = vifData.loc[maxIdx, \"columns\"]\n",
    "    \n",
    "    smOLS_X = sm.add_constant(X_train_scaled_vifClean)\n",
    "    smOLS_y = y_train_scaled\n",
    "    olsModel = sm.OLS(endog=smOLS_y, exog=smOLS_X)\n",
    "    results = olsModel.fit()\n",
    "\n",
    "    if (highestVIF < VIFThreshold) or results.rsquared_adj < r2adjustedThreshold:\n",
    "        print(\"Threshold Reached.!\")\n",
    "        print(\"highestVIF: \", highestVIF)\n",
    "        print(\"adjusted-R2 \", results.rsquared_adj)\n",
    "        print(\"dropped ColumnName: \", droppedCol)\n",
    "        \n",
    "        print(\"\\n\", results.summary())\n",
    "        break\n",
    "    else:\n",
    "        print(\"iter: %d, VIF_Val: %d, ColumnName: %s\" % (iter, highestVIF, columntoDrop))\n",
    "        droppedCol.append(columntoDrop)\n",
    "        X_train_scaled_vifClean.drop(columns=columntoDrop, inplace=True)\n",
    "    \n",
    "    iter += 1"
   ],
   "outputs": [
    {
     "name": "stdout",
     "output_type": "stream",
     "text": [
      "iter: 0, VIF_Val: 24, ColumnName: tgtModel__seller_type\n",
      "iter: 1, VIF_Val: 20, ColumnName: tgtModel__fuel_type\n",
      "iter: 2, VIF_Val: 10, ColumnName: tgtModel__model\n",
      "Threshold Reached.!\n",
      "highestVIF:  7.212084471846789\n",
      "adjusted-R2  0.7593497138342267\n",
      "dropped ColumnName:  ['tgtModel__seller_type', 'tgtModel__fuel_type', 'tgtModel__model']\n",
      "\n",
      "                             OLS Regression Results                            \n",
      "==============================================================================\n",
      "Dep. Variable:                      y   R-squared:                       0.760\n",
      "Model:                            OLS   Adj. R-squared:                  0.759\n",
      "Method:                 Least Squares   F-statistic:                     4644.\n",
      "Date:                Sat, 19 Oct 2024   Prob (F-statistic):               0.00\n",
      "Time:                        20:17:01   Log-Likelihood:                -8315.7\n",
      "No. Observations:               11772   AIC:                         1.665e+04\n",
      "Df Residuals:                   11763   BIC:                         1.672e+04\n",
      "Df Model:                           8                                         \n",
      "Covariance Type:            nonrobust                                         \n",
      "===============================================================================================\n",
      "                                  coef    std err          t      P>|t|      [0.025      0.975]\n",
      "-----------------------------------------------------------------------------------------------\n",
      "const                          -1.2216      0.032    -37.969      0.000      -1.285      -1.159\n",
      "stdModel__year                 -0.3002      0.005    -56.364      0.000      -0.311      -0.290\n",
      "stdModel__km_driven            -0.0481      0.005     -9.343      0.000      -0.058      -0.038\n",
      "stdModel__mileage               0.0303      0.006      4.976      0.000       0.018       0.042\n",
      "stdModel__engine                0.0998      0.009     10.927      0.000       0.082       0.118\n",
      "stdModel__max_power             0.2851      0.009     32.554      0.000       0.268       0.302\n",
      "tgtModel__make                  0.1000      0.002     64.723      0.000       0.097       0.103\n",
      "tgtModel__transmission_type     0.0294      0.002     17.160      0.000       0.026       0.033\n",
      "tgtModel__seats                 0.0507      0.004     12.989      0.000       0.043       0.058\n",
      "==============================================================================\n",
      "Omnibus:                     4858.928   Durbin-Watson:                   2.011\n",
      "Prob(Omnibus):                  0.000   Jarque-Bera (JB):            76793.475\n",
      "Skew:                           1.560   Prob(JB):                         0.00\n",
      "Kurtosis:                      15.117   Cond. No.                         90.2\n",
      "==============================================================================\n",
      "\n",
      "Notes:\n",
      "[1] Standard Errors assume that the covariance matrix of the errors is correctly specified.\n"
     ]
    }
   ],
   "execution_count": 16
  },
  {
   "metadata": {
    "ExecuteTime": {
     "end_time": "2024-10-19T14:47:01.415520Z",
     "start_time": "2024-10-19T14:47:01.401998Z"
    }
   },
   "cell_type": "code",
   "source": [
    "## Refit the model with new dropped columns\n",
    "## Basic LR model.\n",
    "lrModel = LinearRegression()\n",
    "lrModel.fit(X_train_scaled_vifClean, y_train_scaled)\n",
    "\n",
    "yPred = lrModel.predict(X_val_scaled.drop(columns=droppedCol))\n",
    "\n",
    "print(\"R2:\")\n",
    "print(\"\\t - Training Score: \", lrModel.score(X_train_scaled_vifClean, y_train_scaled))\n",
    "print(\"\\t - Validation Score: \", lrModel.score(X_val_scaled.drop(columns=droppedCol), y_val_scaled))\n",
    "print(\"Adjusted R2:\")\n",
    "print(\"\\t - Training Score: \", adjusted_r2_score(X_train_scaled_vifClean, y_train_scaled, lrModel.predict(X_train_scaled_vifClean)))\n",
    "print(\"\\t - Validation Score: \", adjusted_r2_score(X_val_scaled.drop(columns=droppedCol), y_val_scaled, lrModel.predict(X_val_scaled.drop(columns=droppedCol))))\n",
    "\n",
    "print(\"\\nWe can see that the Model over-Fitting reduced drastically as we removed unwanted multi collinear features\")\n"
   ],
   "outputs": [
    {
     "name": "stdout",
     "output_type": "stream",
     "text": [
      "R2:\n",
      "\t - Training Score:  0.7595132685270587\n",
      "\t - Validation Score:  0.7506185549032974\n",
      "Adjusted R2:\n",
      "\t - Training Score:  0.7593497138342267\n",
      "\t - Validation Score:  0.7501089631891791\n",
      "\n",
      "We can see that the Model over-Fitting reduced drastically as we removed unwanted multi collinear features\n"
     ]
    }
   ],
   "execution_count": 17
  },
  {
   "metadata": {},
   "cell_type": "markdown",
   "source": [
    "Check fit of Linear Regression Tests\n",
    "- Linear relation between features\n",
    "- No multi-collinearity\n",
    "- errors follow Normal Distribution\n",
    "- Errors are homoeostatic"
   ]
  },
  {
   "metadata": {
    "ExecuteTime": {
     "end_time": "2024-10-19T14:47:01.603067Z",
     "start_time": "2024-10-19T14:47:01.416426Z"
    }
   },
   "cell_type": "code",
   "source": [
    "errors = y_train_scaled - lrModel.predict(X_train_scaled_vifClean)\n",
    "sns.histplot(errors, bins=100)\n",
    "plt.title(\"Error Distribution\")\n",
    "plt.show()"
   ],
   "outputs": [
    {
     "data": {
      "text/plain": [
       "<Figure size 640x480 with 1 Axes>"
      ],
      "image/png": "[encoded data removed]"
     },
     "metadata": {},
     "output_type": "display_data"
    }
   ],
   "execution_count": 18
  },
  {
   "metadata": {},
   "cell_type": "markdown",
   "source": "The Data looks like Normal Distributed"
  },
  {
   "metadata": {
    "ExecuteTime": {
     "end_time": "2024-10-19T14:47:01.897852Z",
     "start_time": "2024-10-19T14:47:01.603590Z"
    }
   },
   "cell_type": "code",
   "source": [
    "sns.scatterplot(errors)\n",
    "plt.ylabel(\"Error Value\")\n",
    "plt.xlabel(\"Data Point\")\n",
    "plt.title(\"Error Distribution\")\n",
    "plt.show()"
   ],
   "outputs": [
    {
     "data": {
      "text/plain": [
       "<Figure size 640x480 with 1 Axes>"
      ],
      "image/png": "[encoded data removed]"
     },
     "metadata": {},
     "output_type": "display_data"
    }
   ],
   "execution_count": 19
  },
  {
   "metadata": {},
   "cell_type": "markdown",
   "source": "### Final Trial on TestData"
  },
  {
   "metadata": {
    "ExecuteTime": {
     "end_time": "2024-10-19T14:48:51.110280Z",
     "start_time": "2024-10-19T14:48:51.102659Z"
    }
   },
   "cell_type": "code",
   "source": [
    "print(\"R2:\")\n",
    "print(\"\\t - Test Score: \", lrModel.score(X_test_scaled.drop(columns=droppedCol), y_test_scaled))\n",
    "print(\"Adjusted R2:\")\n",
    "print(\"\\t - Test Score: \", adjusted_r2_score(X_test_scaled.drop(columns=droppedCol), y_test_scaled, lrModel.predict(X_test_scaled.drop(columns=droppedCol))))"
   ],
   "outputs": [
    {
     "name": "stdout",
     "output_type": "stream",
     "text": [
      "R2:\n",
      "\t - Test Score:  0.7656176250922732\n",
      "Adjusted R2:\n",
      "\t - Test Score:  0.7651388051231052\n"
     ]
    }
   ],
   "execution_count": 23
  },
  {
   "cell_type": "code",
   "metadata": {
    "ExecuteTime": {
     "end_time": "2024-10-19T14:47:01.911596Z",
     "start_time": "2024-10-19T14:47:01.905475Z"
    }
   },
   "source": [
    "X_Tgt_encode_pkl = \"./Artifacts/lr_BasicModel.pkl\"\n",
    "\n",
    "with open(X_Tgt_encode_pkl, \"wb\") as pfile:\n",
    "    pickle.dump(lrModel, pfile)"
   ],
   "outputs": [],
   "execution_count": 21
  },
  {
   "metadata": {
    "ExecuteTime": {
     "end_time": "2024-10-19T14:47:01.914636Z",
     "start_time": "2024-10-19T14:47:01.911596Z"
    }
   },
   "cell_type": "code",
   "source": "",
   "outputs": [],
   "execution_count": 21
  },
  {
   "metadata": {
    "ExecuteTime": {
     "end_time": "2024-10-19T14:47:01.916951Z",
     "start_time": "2024-10-19T14:47:01.914636Z"
    }
   },
   "cell_type": "code",
   "source": "",
   "outputs": [],
   "execution_count": 21
  },
  {
   "metadata": {
    "ExecuteTime": {
     "end_time": "2024-10-19T14:47:01.919358Z",
     "start_time": "2024-10-19T14:47:01.916951Z"
    }
   },
   "cell_type": "code",
   "source": "",
   "outputs": [],
   "execution_count": 21
  },
  {
   "metadata": {
    "ExecuteTime": {
     "end_time": "2024-10-19T14:47:01.921777Z",
     "start_time": "2024-10-19T14:47:01.919358Z"
    }
   },
   "cell_type": "code",
   "source": "",
   "outputs": [],
   "execution_count": 21
  },
  {
   "metadata": {
    "ExecuteTime": {
     "end_time": "2024-10-19T14:47:01.924299Z",
     "start_time": "2024-10-19T14:47:01.921777Z"
    }
   },
   "cell_type": "code",
   "source": "",
   "outputs": [],
   "execution_count": 21
  },
  {
   "metadata": {
    "ExecuteTime": {
     "end_time": "2024-10-19T14:47:01.926679Z",
     "start_time": "2024-10-19T14:47:01.924816Z"
    }
   },
   "cell_type": "code",
   "source": "",
   "outputs": [],
   "execution_count": 21
  },
  {
   "metadata": {
    "ExecuteTime": {
     "end_time": "2024-10-19T14:47:01.928890Z",
     "start_time": "2024-10-19T14:47:01.926679Z"
    }
   },
   "cell_type": "code",
   "source": "",
   "outputs": [],
   "execution_count": 21
  },
  {
   "metadata": {
    "ExecuteTime": {
     "end_time": "2024-10-19T14:47:01.932747Z",
     "start_time": "2024-10-19T14:47:01.930907Z"
    }
   },
   "cell_type": "code",
   "source": "",
   "outputs": [],
   "execution_count": 21
  },
  {
   "metadata": {
    "ExecuteTime": {
     "end_time": "2024-10-19T14:47:01.935056Z",
     "start_time": "2024-10-19T14:47:01.932747Z"
    }
   },
   "cell_type": "code",
   "source": "",
   "outputs": [],
   "execution_count": 21
  },
  {
   "metadata": {
    "ExecuteTime": {
     "end_time": "2024-10-19T14:47:01.937328Z",
     "start_time": "2024-10-19T14:47:01.935056Z"
    }
   },
   "cell_type": "code",
   "source": "",
   "outputs": [],
   "execution_count": 21
  },
  {
   "metadata": {
    "ExecuteTime": {
     "end_time": "2024-10-19T14:47:01.939552Z",
     "start_time": "2024-10-19T14:47:01.937328Z"
    }
   },
   "cell_type": "code",
   "source": "",
   "outputs": [],
   "execution_count": 21
  },
  {
   "metadata": {
    "ExecuteTime": {
     "end_time": "2024-10-19T14:47:01.941853Z",
     "start_time": "2024-10-19T14:47:01.939552Z"
    }
   },
   "cell_type": "code",
   "source": "",
   "outputs": [],
   "execution_count": 21
  },
  {
   "metadata": {
    "ExecuteTime": {
     "end_time": "2024-10-19T14:47:01.944394Z",
     "start_time": "2024-10-19T14:47:01.941853Z"
    }
   },
   "cell_type": "code",
   "source": "",
   "outputs": [],
   "execution_count": 21
  }
 ],
 "metadata": {
  "kernelspec": {
   "display_name": "base",
   "language": "python",
   "name": "python3"
  },
  "language_info": {
   "codemirror_mode": {
    "name": "ipython",
    "version": 3
   },
   "file_extension": ".py",
   "mimetype": "text/x-python",
   "name": "python",
   "nbconvert_exporter": "python",
   "pygments_lexer": "ipython3",
   "version": "3.8.8"
  }
 },
 "nbformat": 4,
 "nbformat_minor": 2
}
