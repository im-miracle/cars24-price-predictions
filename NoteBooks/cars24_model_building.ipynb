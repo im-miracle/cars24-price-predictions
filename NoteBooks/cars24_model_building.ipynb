{
 "cells": [
  {
   "cell_type": "markdown",
   "metadata": {},
   "source": [
    "### Importing Modules"
   ]
  },
  {
   "cell_type": "code",
   "execution_count": null,
   "metadata": {},
   "outputs": [
    {
     "ename": "",
     "evalue": "",
     "output_type": "error",
     "traceback": [
      "\u001b[1;31mThe kernel failed to start due to an error with the Win32api module. Consider (re) installing this module.\n",
      "\u001b[1;31mClick <a href='https://aka.ms/kernelFailuresWin32Api'>here</a> for more info."
     ]
    }
   ],
   "source": [
    "# Commom Includes\n",
    "from datetime import datetime\n",
    "\n",
    "# ML Modules\n",
    "import numpy as np\n",
    "import pandas as pd\n",
    "import matplotlib.pyplot as plt\n",
    "import seaborn as sns\n",
    "\n",
    "import pickle\n",
    "\n",
    "from sklearn.preprocessing import StandardScaler, MinMaxScaler\n",
    "from sklearn.preprocessing import TargetEncoder\n",
    "from sklearn.model_selection import train_test_split\n",
    "from sklearn.compose import ColumnTransformer"
   ]
  },
  {
   "cell_type": "code",
   "execution_count": null,
   "metadata": {},
   "outputs": [
    {
     "ename": "",
     "evalue": "",
     "output_type": "error",
     "traceback": [
      "\u001b[1;31mThe kernel failed to start due to an error with the Win32api module. Consider (re) installing this module.\n",
      "\u001b[1;31mClick <a href='https://aka.ms/kernelFailuresWin32Api'>here</a> for more info."
     ]
    }
   ],
   "source": [
    "df = pd.read_csv(\"../DataSet/cars24_car-price-clean-data.csv\", index_col=\"Unnamed: 0\")"
   ]
  },
  {
   "cell_type": "code",
   "execution_count": null,
   "metadata": {},
   "outputs": [
    {
     "ename": "",
     "evalue": "",
     "output_type": "error",
     "traceback": [
      "\u001b[1;31mThe kernel failed to start due to an error with the Win32api module. Consider (re) installing this module.\n",
      "\u001b[1;31mClick <a href='https://aka.ms/kernelFailuresWin32Api'>here</a> for more info."
     ]
    }
   ],
   "source": [
    "df.columns"
   ]
  },
  {
   "cell_type": "code",
   "execution_count": null,
   "metadata": {},
   "outputs": [
    {
     "ename": "",
     "evalue": "",
     "output_type": "error",
     "traceback": [
      "\u001b[1;31mThe kernel failed to start due to an error with the Win32api module. Consider (re) installing this module.\n",
      "\u001b[1;31mClick <a href='https://aka.ms/kernelFailuresWin32Api'>here</a> for more info."
     ]
    }
   ],
   "source": [
    "categCols = [\"make\", \"model\", \"seller_type\", \"fuel_type\", \"transmission_type\", \"seats\"]\n",
    "contCols = [\"year\", \"km_driven\", \"mileage\", \"engine\", \"max_power\"]"
   ]
  },
  {
   "cell_type": "code",
   "execution_count": null,
   "metadata": {},
   "outputs": [
    {
     "ename": "",
     "evalue": "",
     "output_type": "error",
     "traceback": [
      "\u001b[1;31mThe kernel failed to start due to an error with the Win32api module. Consider (re) installing this module.\n",
      "\u001b[1;31mClick <a href='https://aka.ms/kernelFailuresWin32Api'>here</a> for more info."
     ]
    }
   ],
   "source": [
    "## splitting the Data to Train-Validation-Test\n",
    "\n",
    "randomState = 50\n",
    "## spliting the data to features and target Variables\n",
    "X = df.drop(columns=\"selling_price\")\n",
    "y = df[\"selling_price\"]\n",
    "\n",
    "X_tr_vl, X_test, y_tr_vl, y_test = train_test_split(X, y, test_size=0.2, random_state=randomState)\n",
    "X_train, X_val, y_train, y_val = train_test_split(X_tr_vl, y_tr_vl, test_size=0.25, random_state=randomState)\n",
    "\n",
    "print(\"Training Data size: X: %s, y: %s\" % (X_train.shape, y_train.shape))\n",
    "print(\"Validation Data size: X: %s, y: %s\" % (X_val.shape, y_val.shape))\n",
    "print(\"Test Data size: X: %s, y: %s\" % (X_test.shape, y_test.shape))"
   ]
  },
  {
   "cell_type": "code",
   "execution_count": null,
   "metadata": {},
   "outputs": [
    {
     "ename": "",
     "evalue": "",
     "output_type": "error",
     "traceback": [
      "\u001b[1;31mThe kernel failed to start due to an error with the Win32api module. Consider (re) installing this module.\n",
      "\u001b[1;31mClick <a href='https://aka.ms/kernelFailuresWin32Api'>here</a> for more info."
     ]
    }
   ],
   "source": [
    "# Scaling Model Names\n",
    "X_MinMaxModelName = \"minmaxModel\"\n",
    "X_StdModelName = \"stdModel\"\n",
    "X_TgtModelName = \"tgtModel\"\n",
    "\n",
    "# Model pickle file Names\n",
    "X_MinMax_scale_pkl = \"../Artifacts/X_MinMax_scale.pkl\" \n",
    "X_Std_scale_pkl = \"../Artifacts/X_Std_scale.pkl\" \n",
    "X_Tgt_encode_pkl = \"../Artifacts/X_Tgt_encode.pkl\" \n",
    "y_Std_scale_pkl = \"../Artifacts/y_Std_scale.pkl\" \n",
    "\n",
    "# Scaling Continuous Data\n",
    "# TODO: Need to figure out which ones to pass to Standard Scaler and vice-versa \n",
    "minmax_features = []\n",
    "standard_features = contCols\n",
    "Target_features = categCols\n",
    "\n",
    "# Create and fit model for continuous features\n",
    "preprocessor = ColumnTransformer(\n",
    "    transformers=[\n",
    "        (X_MinMaxModelName, MinMaxScaler(), minmax_features),\n",
    "        (X_StdModelName, StandardScaler(), standard_features),\n",
    "        (X_TgtModelName, TargetEncoder(), Target_features)],\n",
    "        remainder=\"passthrough\")\n",
    "preprocessor.fit(X=X_train, y=y_train)\n",
    "\n",
    "# Create and fit model for Target Variable\n",
    "yStdScaler = StandardScaler()\n",
    "yStdScaler.fit(y_train.values.reshape(-1, 1))\n",
    "\n",
    "with open(X_MinMaxModelName, \"wb\") as pfile:\n",
    "    pickle.dump(preprocessor.named_transformers_[X_MinMaxModelName], pfile)\n",
    "\n",
    "with open(X_Std_scale_pkl, \"wb\") as pfile:\n",
    "    pickle.dump(preprocessor.named_transformers_[X_StdModelName], pfile)\n",
    "\n",
    "with open(X_TgtModelName, \"wb\") as pfile:\n",
    "    pickle.dump(preprocessor.named_transformers_[X_TgtModelName], pfile)\n",
    "\n",
    "with open(y_Std_scale_pkl, \"wb\") as pfile:\n",
    "    pickle.dump(yStdScaler, pfile)"
   ]
  },
  {
   "cell_type": "code",
   "execution_count": null,
   "metadata": {},
   "outputs": [
    {
     "ename": "",
     "evalue": "",
     "output_type": "error",
     "traceback": [
      "\u001b[1;31mThe kernel failed to start due to an error with the Win32api module. Consider (re) installing this module.\n",
      "\u001b[1;31mClick <a href='https://aka.ms/kernelFailuresWin32Api'>here</a> for more info."
     ]
    }
   ],
   "source": [
    "## now transforming the continuous Features\n",
    "pd.DataFrame(preprocessor.transform(X_train), columns = preprocessor.get_feature_names_out())\n"
   ]
  },
  {
   "cell_type": "code",
   "execution_count": null,
   "metadata": {},
   "outputs": [
    {
     "ename": "",
     "evalue": "",
     "output_type": "error",
     "traceback": [
      "\u001b[1;31mThe kernel failed to start due to an error with the Win32api module. Consider (re) installing this module.\n",
      "\u001b[1;31mClick <a href='https://aka.ms/kernelFailuresWin32Api'>here</a> for more info."
     ]
    }
   ],
   "source": []
  },
  {
   "cell_type": "code",
   "execution_count": null,
   "metadata": {},
   "outputs": [
    {
     "ename": "",
     "evalue": "",
     "output_type": "error",
     "traceback": [
      "\u001b[1;31mThe kernel failed to start due to an error with the Win32api module. Consider (re) installing this module.\n",
      "\u001b[1;31mClick <a href='https://aka.ms/kernelFailuresWin32Api'>here</a> for more info."
     ]
    }
   ],
   "source": []
  },
  {
   "cell_type": "code",
   "execution_count": null,
   "metadata": {},
   "outputs": [
    {
     "ename": "",
     "evalue": "",
     "output_type": "error",
     "traceback": [
      "\u001b[1;31mThe kernel failed to start due to an error with the Win32api module. Consider (re) installing this module.\n",
      "\u001b[1;31mClick <a href='https://aka.ms/kernelFailuresWin32Api'>here</a> for more info."
     ]
    }
   ],
   "source": []
  }
 ],
 "metadata": {
  "kernelspec": {
   "display_name": "base",
   "language": "python",
   "name": "python3"
  },
  "language_info": {
   "codemirror_mode": {
    "name": "ipython",
    "version": 3
   },
   "file_extension": ".py",
   "mimetype": "text/x-python",
   "name": "python",
   "nbconvert_exporter": "python",
   "pygments_lexer": "ipython3",
   "version": "3.8.8"
  }
 },
 "nbformat": 4,
 "nbformat_minor": 2
}
