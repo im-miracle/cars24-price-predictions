{
 "cells": [
  {
   "cell_type": "code",
   "id": "initial_id",
   "metadata": {
    "collapsed": true,
    "ExecuteTime": {
     "end_time": "2024-10-19T10:27:49.177958Z",
     "start_time": "2024-10-19T10:27:49.025036Z"
    }
   },
   "source": [
    "import numpy as np\n",
    "import pandas as pd\n",
    "import matplotlib.pyplot as plt\n",
    "import seaborn as sns\n",
    "\n",
    "from sklearn.preprocessing import MinMaxScaler "
   ],
   "outputs": [],
   "execution_count": 23
  },
  {
   "metadata": {
    "ExecuteTime": {
     "end_time": "2024-10-19T10:36:05.666437Z",
     "start_time": "2024-10-19T10:36:05.659147Z"
    }
   },
   "cell_type": "code",
   "source": [
    "class LinearRegressionScratch:\n",
    "    W = None\n",
    "    w0 = None\n",
    "    learning_rate = None\n",
    "    iterations = None\n",
    "    errorList = []\n",
    "    \n",
    "    def __init__(self, learning_rate, iterations):\n",
    "        self.learning_rate = learning_rate\n",
    "        self.iterations = iterations\n",
    "        \n",
    "    def predict(self, X):\n",
    "        return X.dot(self.W) + self.w0\n",
    "\n",
    "    def score(self, X, y):\n",
    "        ss_res = np.sum((y - self.predict(X)) ** 2)\n",
    "        ss_mean = np.sum((y-np.mean(y))**2)\n",
    "        try:\n",
    "            r2Score = 1 - (ss_res / ss_mean)\n",
    "        except ZeroDivisionError:\n",
    "            print(\"ZeroDivisionError Occured\")\n",
    "            r2Score = 0\n",
    "\n",
    "        return r2Score            \n",
    "        \n",
    "    def updateWeights(self, X, y):\n",
    "        error = y- self.predict(X)\n",
    "        dW = - ( 2 * (X.T).dot(error))/X.shape[0]\n",
    "        dw0 = - 2 * np.sum(error)/X.shape[0]\n",
    "        \n",
    "        self.W = self.W - self.learning_rate * dW\n",
    "        self.w0 = self.w0 - self.learning_rate * dw0\n",
    "\n",
    "    def fit(self, X, y):\n",
    "        self.W = np.random.randn(X.shape[1], 1)\n",
    "        self.w0 = np.random.randn(1)\n",
    "        self.errorList = []\n",
    "        for i in range(self.iterations):\n",
    "            self.updateWeights(X, y)\n",
    "            ypred = self.predict(X)\n",
    "            mse = np.mean((y - ypred) ** 2)\n",
    "            self.errorList.append(mse)\n",
    "    \n",
    "    def give_errorList(self):\n",
    "        return self.errorList"
   ],
   "id": "7e26e2b70b5a1fdd",
   "outputs": [],
   "execution_count": 46
  },
  {
   "metadata": {
    "ExecuteTime": {
     "end_time": "2024-10-19T10:36:06.024470Z",
     "start_time": "2024-10-19T10:36:05.971570Z"
    }
   },
   "cell_type": "code",
   "source": "df_org = pd.read_csv(\"C:/Study/gitRepo/cars24_LR/cars24-price-predictions/NoteBooks/otherTrials/cars24-car-price-cleaned.csv\")",
   "id": "103489cc6148b5bd",
   "outputs": [],
   "execution_count": 47
  },
  {
   "metadata": {
    "ExecuteTime": {
     "end_time": "2024-10-19T10:36:06.162658Z",
     "start_time": "2024-10-19T10:36:06.124423Z"
    }
   },
   "cell_type": "code",
   "source": [
    "df = df_org.copy()\n",
    "df[\"make\"] = df.groupby(by=\"make\")[\"selling_price\"].transform(\"mean\")\n",
    "df[\"model\"] = df.groupby(by=\"model\")[\"selling_price\"].transform(\"mean\")\n",
    "\n",
    "df.head(1)"
   ],
   "id": "91af827369c072cb",
   "outputs": [
    {
     "data": {
      "text/plain": [
       "   selling_price    year  km_driven  mileage  engine  max_power   age  \\\n",
       "0            1.2  2012.0     120000     19.7   796.0       46.3  11.0   \n",
       "\n",
       "       make  model  Individual  Trustmark Dealer  Diesel  Electric  LPG  \\\n",
       "0  4.684721   1.18           1                 0       0         0    0   \n",
       "\n",
       "   Petrol  Manual  5  >5  \n",
       "0       1       1  1   0  "
      ],
      "text/html": [
       "<div>\n",
       "<style scoped>\n",
       "    .dataframe tbody tr th:only-of-type {\n",
       "        vertical-align: middle;\n",
       "    }\n",
       "\n",
       "    .dataframe tbody tr th {\n",
       "        vertical-align: top;\n",
       "    }\n",
       "\n",
       "    .dataframe thead th {\n",
       "        text-align: right;\n",
       "    }\n",
       "</style>\n",
       "<table border=\"1\" class=\"dataframe\">\n",
       "  <thead>\n",
       "    <tr style=\"text-align: right;\">\n",
       "      <th></th>\n",
       "      <th>selling_price</th>\n",
       "      <th>year</th>\n",
       "      <th>km_driven</th>\n",
       "      <th>mileage</th>\n",
       "      <th>engine</th>\n",
       "      <th>max_power</th>\n",
       "      <th>age</th>\n",
       "      <th>make</th>\n",
       "      <th>model</th>\n",
       "      <th>Individual</th>\n",
       "      <th>Trustmark Dealer</th>\n",
       "      <th>Diesel</th>\n",
       "      <th>Electric</th>\n",
       "      <th>LPG</th>\n",
       "      <th>Petrol</th>\n",
       "      <th>Manual</th>\n",
       "      <th>5</th>\n",
       "      <th>&gt;5</th>\n",
       "    </tr>\n",
       "  </thead>\n",
       "  <tbody>\n",
       "    <tr>\n",
       "      <th>0</th>\n",
       "      <td>1.2</td>\n",
       "      <td>2012.0</td>\n",
       "      <td>120000</td>\n",
       "      <td>19.7</td>\n",
       "      <td>796.0</td>\n",
       "      <td>46.3</td>\n",
       "      <td>11.0</td>\n",
       "      <td>4.684721</td>\n",
       "      <td>1.18</td>\n",
       "      <td>1</td>\n",
       "      <td>0</td>\n",
       "      <td>0</td>\n",
       "      <td>0</td>\n",
       "      <td>0</td>\n",
       "      <td>1</td>\n",
       "      <td>1</td>\n",
       "      <td>1</td>\n",
       "      <td>0</td>\n",
       "    </tr>\n",
       "  </tbody>\n",
       "</table>\n",
       "</div>"
      ]
     },
     "execution_count": 48,
     "metadata": {},
     "output_type": "execute_result"
    }
   ],
   "execution_count": 48
  },
  {
   "metadata": {
    "ExecuteTime": {
     "end_time": "2024-10-19T10:36:06.371268Z",
     "start_time": "2024-10-19T10:36:06.354180Z"
    }
   },
   "cell_type": "code",
   "source": [
    "MM_scale = MinMaxScaler()\n",
    "df = pd.DataFrame(MM_scale.fit_transform(df), columns=MM_scale.get_feature_names_out())"
   ],
   "id": "5cf68cd260e77f26",
   "outputs": [],
   "execution_count": 49
  },
  {
   "metadata": {
    "ExecuteTime": {
     "end_time": "2024-10-19T10:39:08.527674Z",
     "start_time": "2024-10-19T10:37:08.956924Z"
    }
   },
   "cell_type": "code",
   "source": [
    "X = df.drop(columns=\"selling_price\")\n",
    "y = df[\"selling_price\"]\n",
    "\n",
    "lrModel = LinearRegressionScratch(learning_rate=0.01, iterations=5)\n",
    "lrModel.fit(X=X, y=y)\n",
    "\n",
    "sns.lineplot(data=lrModel.errorList)"
   ],
   "id": "3cb5265873346e50",
   "outputs": [
    {
     "name": "stderr",
     "output_type": "stream",
     "text": [
      "C:\\Users\\saivarshith\\AppData\\Local\\Packages\\PythonSoftwareFoundation.Python.3.12_qbz5n2kfra8p0\\LocalCache\\local-packages\\Python312\\site-packages\\numpy\\_core\\fromnumeric.py:84: FutureWarning: The behavior of DataFrame.sum with axis=None is deprecated, in a future version this will reduce over both axes and return a scalar. To retain the old behavior, pass axis=0 (or do not pass axis)\n",
      "  return reduction(axis=axis, out=out, **passkwargs)\n",
      "C:\\Users\\saivarshith\\AppData\\Local\\Packages\\PythonSoftwareFoundation.Python.3.12_qbz5n2kfra8p0\\LocalCache\\local-packages\\Python312\\site-packages\\numpy\\_core\\fromnumeric.py:84: FutureWarning: The behavior of DataFrame.sum with axis=None is deprecated, in a future version this will reduce over both axes and return a scalar. To retain the old behavior, pass axis=0 (or do not pass axis)\n",
      "  return reduction(axis=axis, out=out, **passkwargs)\n",
      "C:\\Users\\saivarshith\\AppData\\Local\\Packages\\PythonSoftwareFoundation.Python.3.12_qbz5n2kfra8p0\\LocalCache\\local-packages\\Python312\\site-packages\\numpy\\_core\\fromnumeric.py:84: FutureWarning: The behavior of DataFrame.sum with axis=None is deprecated, in a future version this will reduce over both axes and return a scalar. To retain the old behavior, pass axis=0 (or do not pass axis)\n",
      "  return reduction(axis=axis, out=out, **passkwargs)\n",
      "C:\\Users\\saivarshith\\AppData\\Local\\Packages\\PythonSoftwareFoundation.Python.3.12_qbz5n2kfra8p0\\LocalCache\\local-packages\\Python312\\site-packages\\numpy\\_core\\fromnumeric.py:84: FutureWarning: The behavior of DataFrame.sum with axis=None is deprecated, in a future version this will reduce over both axes and return a scalar. To retain the old behavior, pass axis=0 (or do not pass axis)\n",
      "  return reduction(axis=axis, out=out, **passkwargs)\n",
      "C:\\Users\\saivarshith\\AppData\\Local\\Packages\\PythonSoftwareFoundation.Python.3.12_qbz5n2kfra8p0\\LocalCache\\local-packages\\Python312\\site-packages\\numpy\\_core\\fromnumeric.py:84: FutureWarning: The behavior of DataFrame.sum with axis=None is deprecated, in a future version this will reduce over both axes and return a scalar. To retain the old behavior, pass axis=0 (or do not pass axis)\n",
      "  return reduction(axis=axis, out=out, **passkwargs)\n"
     ]
    },
    {
     "data": {
      "text/plain": [
       "<Axes: >"
      ]
     },
     "execution_count": 51,
     "metadata": {},
     "output_type": "execute_result"
    },
    {
     "data": {
      "text/plain": [
       "<Figure size 640x480 with 1 Axes>"
      ],
      "image/png": "[encoded data removed]"
     },
     "metadata": {},
     "output_type": "display_data"
    }
   ],
   "execution_count": 51
  },
  {
   "metadata": {
    "ExecuteTime": {
     "end_time": "2024-10-19T10:37:02.305311Z",
     "start_time": "2024-10-19T10:37:02.297270Z"
    }
   },
   "cell_type": "code",
   "source": "",
   "id": "33c3891e99b14b15",
   "outputs": [],
   "execution_count": 50
  },
  {
   "metadata": {
    "ExecuteTime": {
     "end_time": "2024-10-19T10:37:02.310826Z",
     "start_time": "2024-10-19T10:37:02.307315Z"
    }
   },
   "cell_type": "code",
   "source": "",
   "id": "c80026c99657c4de",
   "outputs": [],
   "execution_count": 50
  },
  {
   "metadata": {
    "ExecuteTime": {
     "end_time": "2024-10-19T10:35:21.455262Z",
     "start_time": "2024-10-19T10:35:21.455262Z"
    }
   },
   "cell_type": "code",
   "source": "",
   "id": "6d9246b3b96b91bb",
   "outputs": [],
   "execution_count": null
  },
  {
   "metadata": {},
   "cell_type": "code",
   "outputs": [],
   "execution_count": null,
   "source": "",
   "id": "d3f1d6cbe2dd878"
  }
 ],
 "metadata": {
  "kernelspec": {
   "display_name": "Python 3",
   "language": "python",
   "name": "python3"
  },
  "language_info": {
   "codemirror_mode": {
    "name": "ipython",
    "version": 2
   },
   "file_extension": ".py",
   "mimetype": "text/x-python",
   "name": "python",
   "nbconvert_exporter": "python",
   "pygments_lexer": "ipython2",
   "version": "2.7.6"
  }
 },
 "nbformat": 4,
 "nbformat_minor": 5
}
